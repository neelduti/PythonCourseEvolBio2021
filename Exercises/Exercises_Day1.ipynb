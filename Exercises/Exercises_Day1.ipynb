{
 "cells": [
  {
   "cell_type": "markdown",
   "metadata": {},
   "source": [
    "# Exercises for Day 1: Basic string operations, data types, lists, dictionaries, sets, IO\n",
    "1. Write a script that asks for your name and prints the message \"Hallo \\<YOUR_NAME\\>!\". Execute the script and test that it works as expected.\n",
    "\n",
    "1. Edit the script. Determine and print out\n",
    "    1. the length of the name (number of letters and whitespaces)! \n",
    "    1. the number of words in the name (interpret the whitespace ' ' as word separator)!\n",
    "    1. the name read backwards!\n",
    "    1. every other letter of the name!\n",
    "    1. the name with inverted capitalization of each letter!\n",
    "    1. the unique letters in the name? (Hint:  use the `set()` function)!\n",
    "    1. Define a list of all letters in the alphabet, upper and lower case!\n",
    "    1. Use a list comprehension to construct lists of tuples of type (str,bool) where for each letter in the alphabet the bool indicates whether it is present in the name (True) or not (False)!\n",
    "    \n",
    "1. Write a new script named \"contact.py\" that asks the user for\n",
    "    - first name\n",
    "    - last name\n",
    "    - age\n",
    "    - phone number\n",
    "    - street\n",
    "    - house number\n",
    "    - city\n",
    "    - zip code\n",
    "    \n",
    "and store the values in a dictionary named `contact_dict` with appropriate keys.\n",
    "\n",
    "- Describe the return value of the following dictionary methods:\n",
    "    - `contact_dict.items()`  \n",
    "    - `contact_dict.keys()`\n",
    "    - `contact_dict.values()`\n",
    "    - `contact_dict.copy()` \n",
    "    - `contact_dict.has_key()`\n",
    "    - `contact_dict.items()`\n",
    "    - `contact_dict.keys()`\n",
    "    - `contact_dict.update()`\n",
    "    - `contact_dict.fromkeys()`\n",
    "    - `contact_dict.values()`\n",
    "    - `contact_dict.get()`\n",
    "    - `contact_dict.setdefault()`\n",
    "    - `contact_dict.pop()`\n",
    "    - `contact_dict.popitem()`\n",
    "    - `contact_dict.clear()`\n",
    " \n",
    "- Print out a nicely formatted contact card."
   ]
  },
  {
   "cell_type": "code",
   "execution_count": 1,
   "metadata": {},
   "outputs": [
    {
     "data": {
      "text/plain": [
       "\u001b[0;31mDocstring:\u001b[0m\n",
       "print(value, ..., sep=' ', end='\\n', file=sys.stdout, flush=False)\n",
       "\n",
       "Prints the values to a stream, or to sys.stdout by default.\n",
       "Optional keyword arguments:\n",
       "file:  a file-like object (stream); defaults to the current sys.stdout.\n",
       "sep:   string inserted between values, default a space.\n",
       "end:   string appended after the last value, default a newline.\n",
       "flush: whether to forcibly flush the stream.\n",
       "\u001b[0;31mType:\u001b[0m      builtin_function_or_method\n"
      ]
     },
     "metadata": {},
     "output_type": "display_data"
    }
   ],
   "source": [
    "print?"
   ]
  }
 ],
 "metadata": {
  "kernelspec": {
   "display_name": "Python 3",
   "language": "python",
   "name": "python3"
  },
  "language_info": {
   "codemirror_mode": {
    "name": "ipython",
    "version": 3
   },
   "file_extension": ".py",
   "mimetype": "text/x-python",
   "name": "python",
   "nbconvert_exporter": "python",
   "pygments_lexer": "ipython3",
   "version": "3.8.5"
  }
 },
 "nbformat": 4,
 "nbformat_minor": 4
}
