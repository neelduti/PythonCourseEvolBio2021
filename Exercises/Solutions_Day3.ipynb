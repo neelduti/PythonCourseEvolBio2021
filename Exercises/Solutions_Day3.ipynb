{
 "cells": [
  {
   "cell_type": "markdown",
   "metadata": {},
   "source": [
    "# Solutions numpy (day 3)"
   ]
  },
  {
   "cell_type": "code",
   "execution_count": 1,
   "metadata": {},
   "outputs": [],
   "source": [
    "import numpy as np"
   ]
  },
  {
   "cell_type": "code",
   "execution_count": 101,
   "metadata": {},
   "outputs": [],
   "source": [
    "magic = np.array(\n",
    "    [\n",
    "        [ 16,  3,  2, 13],\n",
    "        [  5, 10, 11,  8],\n",
    "        [  9,  6,  7, 12],\n",
    "        [  4, 15, 14,  1]\n",
    "    ]\n",
    ")"
   ]
  },
  {
   "cell_type": "code",
   "execution_count": 3,
   "metadata": {},
   "outputs": [
    {
     "data": {
      "text/plain": [
       "array([[16,  3,  2, 13],\n",
       "       [ 5, 10, 11,  8],\n",
       "       [ 9,  6,  7, 12],\n",
       "       [ 4, 15, 14,  1]])"
      ]
     },
     "execution_count": 3,
     "metadata": {},
     "output_type": "execute_result"
    }
   ],
   "source": [
    "magic"
   ]
  },
  {
   "cell_type": "code",
   "execution_count": 5,
   "metadata": {},
   "outputs": [
    {
     "data": {
      "text/plain": [
       "array([34, 34, 34, 34])"
      ]
     },
     "execution_count": 5,
     "metadata": {},
     "output_type": "execute_result"
    }
   ],
   "source": [
    "# 2\n",
    "magic.sum(axis=0)"
   ]
  },
  {
   "cell_type": "code",
   "execution_count": 6,
   "metadata": {},
   "outputs": [
    {
     "data": {
      "text/plain": [
       "array([34, 34, 34, 34])"
      ]
     },
     "execution_count": 6,
     "metadata": {},
     "output_type": "execute_result"
    }
   ],
   "source": [
    "# 3\n",
    "magic.sum(axis=1)"
   ]
  },
  {
   "cell_type": "code",
   "execution_count": 8,
   "metadata": {},
   "outputs": [
    {
     "data": {
      "text/plain": [
       "34"
      ]
     },
     "execution_count": 8,
     "metadata": {},
     "output_type": "execute_result"
    }
   ],
   "source": [
    "# 4a\n",
    "magic.diagonal().sum()"
   ]
  },
  {
   "cell_type": "code",
   "execution_count": 9,
   "metadata": {},
   "outputs": [
    {
     "data": {
      "text/plain": [
       "34"
      ]
     },
     "execution_count": 9,
     "metadata": {},
     "output_type": "execute_result"
    }
   ],
   "source": [
    "# 4b\n",
    "magic[::-1].diagonal().sum()"
   ]
  },
  {
   "cell_type": "code",
   "execution_count": 10,
   "metadata": {},
   "outputs": [
    {
     "data": {
      "text/plain": [
       "(34, 34, 34, 34)"
      ]
     },
     "execution_count": 10,
     "metadata": {},
     "output_type": "execute_result"
    }
   ],
   "source": [
    "# 5\n",
    "(\n",
    "magic[:2,:2].sum(),\n",
    "magic[2:,:2].sum(),\n",
    "magic[:2,2:].sum(),\n",
    "magic[:2,2:].sum(),\n",
    ")"
   ]
  },
  {
   "cell_type": "code",
   "execution_count": 11,
   "metadata": {},
   "outputs": [
    {
     "data": {
      "text/plain": [
       "58"
      ]
     },
     "execution_count": 11,
     "metadata": {},
     "output_type": "execute_result"
    }
   ],
   "source": [
    "# 6\n",
    "magic.max(axis=0).sum()"
   ]
  },
  {
   "cell_type": "code",
   "execution_count": 12,
   "metadata": {},
   "outputs": [
    {
     "data": {
      "text/plain": [
       "54"
      ]
     },
     "execution_count": 12,
     "metadata": {},
     "output_type": "execute_result"
    }
   ],
   "source": [
    "# 6\n",
    "magic.max(axis=1).sum()"
   ]
  },
  {
   "cell_type": "code",
   "execution_count": 13,
   "metadata": {},
   "outputs": [
    {
     "data": {
      "text/plain": [
       "(8.5, array([8.5, 8.5, 8.5, 8.5]), array([8.5, 8.5, 8.5, 8.5]))"
      ]
     },
     "execution_count": 13,
     "metadata": {},
     "output_type": "execute_result"
    }
   ],
   "source": [
    "# 7\n",
    "(\n",
    "    magic.mean(),\n",
    "    magic.mean(axis=0),\n",
    "    magic.mean(axis=1)\n",
    ")"
   ]
  },
  {
   "cell_type": "code",
   "execution_count": 16,
   "metadata": {},
   "outputs": [
    {
     "data": {
      "text/plain": [
       "(8.5, array([ 7.,  8.,  9., 10.]), array([8., 9., 8., 9.]))"
      ]
     },
     "execution_count": 16,
     "metadata": {},
     "output_type": "execute_result"
    }
   ],
   "source": [
    "# 8\n",
    "(\n",
    "    np.median(magic,),\n",
    "    np.median(magic,axis=0),\n",
    "    np.median(magic,axis=1)\n",
    ")"
   ]
  },
  {
   "cell_type": "code",
   "execution_count": 30,
   "metadata": {},
   "outputs": [
    {
     "data": {
      "text/plain": [
       "array([0.11764706, 0.13970588, 0.15441176, 0.25      , 0.28676471,\n",
       "       0.36029412, 0.44117647, 0.5       , 0.56617647, 0.61029412,\n",
       "       0.66176471, 0.75      , 0.77941176, 0.88970588, 0.99264706,\n",
       "       1.        ])"
      ]
     },
     "execution_count": 30,
     "metadata": {},
     "output_type": "execute_result"
    }
   ],
   "source": [
    "magic.flatten().cumsum()/magic.sum()"
   ]
  },
  {
   "cell_type": "code",
   "execution_count": 60,
   "metadata": {},
   "outputs": [],
   "source": [
    "# 10 A\n",
    "def quantilles(a, axis=None):\n",
    "    \"\"\" Function to return the 25%, 50%, and 75% quantilles\"\"\"\n",
    "        \n",
    "    a = a.flatten()\n",
    "    a.sort()\n",
    "    # Sum\n",
    "    rel_cum_sum = a.cumsum()/a.sum()\n",
    "    \n",
    "    print(rel_cum_sum)\n",
    "    \n",
    "    smaller_25 = rel_cum_sum < 0.25\n",
    "    larger_25 = rel_cum_sum > 0.25\n",
    "    \n",
    "    print(a[smaller_25])\n",
    "    print(a[larger_25])\n",
    "    \n",
    "    def midpoint(a,b):\n",
    "        return 0.5*(a+b)\n",
    "    \n",
    "    return midpoint(a[smaller_25][-1], a[larger_25][0])\n",
    "    \n",
    "    \n",
    "    "
   ]
  },
  {
   "cell_type": "code",
   "execution_count": 61,
   "metadata": {},
   "outputs": [
    {
     "name": "stdout",
     "output_type": "stream",
     "text": [
      "[0.00735294 0.02205882 0.04411765 0.07352941 0.11029412 0.15441176\n",
      " 0.20588235 0.26470588 0.33088235 0.40441176 0.48529412 0.57352941\n",
      " 0.66911765 0.77205882 0.88235294 1.        ]\n",
      "[1 2 3 4 5 6 7]\n",
      "[ 8  9 10 11 12 13 14 15 16]\n"
     ]
    },
    {
     "data": {
      "text/plain": [
       "7.5"
      ]
     },
     "execution_count": 61,
     "metadata": {},
     "output_type": "execute_result"
    }
   ],
   "source": [
    "quantilles(magic)"
   ]
  },
  {
   "cell_type": "code",
   "execution_count": 45,
   "metadata": {},
   "outputs": [
    {
     "data": {
      "text/plain": [
       "(array([8.5, 8.5, 8.5, 8.5]),\n",
       " array([17., 17., 17., 17.]),\n",
       " array([25.5, 25.5, 25.5, 25.5]))"
      ]
     },
     "execution_count": 45,
     "metadata": {},
     "output_type": "execute_result"
    }
   ],
   "source": [
    "quantilles(magic, axis=0)"
   ]
  },
  {
   "cell_type": "code",
   "execution_count": 46,
   "metadata": {},
   "outputs": [
    {
     "data": {
      "text/plain": [
       "(array([8.5, 8.5, 8.5, 8.5]),\n",
       " array([17., 17., 17., 17.]),\n",
       " array([25.5, 25.5, 25.5, 25.5]))"
      ]
     },
     "execution_count": 46,
     "metadata": {},
     "output_type": "execute_result"
    }
   ],
   "source": [
    "quantilles(magic, axis=1)"
   ]
  },
  {
   "cell_type": "code",
   "execution_count": 48,
   "metadata": {},
   "outputs": [
    {
     "data": {
      "text/plain": [
       "4.75"
      ]
     },
     "execution_count": 48,
     "metadata": {},
     "output_type": "execute_result"
    }
   ],
   "source": [
    "# 10 B\n",
    "np.quantile(magic, q=0.25)"
   ]
  },
  {
   "cell_type": "code",
   "execution_count": 49,
   "metadata": {},
   "outputs": [
    {
     "data": {
      "text/plain": [
       "8.5"
      ]
     },
     "execution_count": 49,
     "metadata": {},
     "output_type": "execute_result"
    }
   ],
   "source": [
    "# 10 B\n",
    "np.quantile(magic, q=0.5)"
   ]
  },
  {
   "cell_type": "code",
   "execution_count": 64,
   "metadata": {},
   "outputs": [
    {
     "data": {
      "text/plain": [
       "array([[0., 0., 0., ..., 0., 0., 0.],\n",
       "       [0., 0., 0., ..., 0., 0., 0.],\n",
       "       [0., 0., 0., ..., 0., 0., 0.],\n",
       "       ...,\n",
       "       [0., 0., 0., ..., 0., 0., 0.],\n",
       "       [0., 0., 0., ..., 0., 0., 0.],\n",
       "       [0., 0., 0., ..., 0., 0., 0.]])"
      ]
     },
     "execution_count": 64,
     "metadata": {},
     "output_type": "execute_result"
    }
   ],
   "source": [
    "# 11 A\n",
    "np.zeros(shape=(100, 100))"
   ]
  },
  {
   "cell_type": "code",
   "execution_count": 65,
   "metadata": {},
   "outputs": [
    {
     "data": {
      "text/plain": [
       "array([[[1., 1., 1., ..., 1., 1., 1.],\n",
       "        [1., 1., 1., ..., 1., 1., 1.],\n",
       "        [1., 1., 1., ..., 1., 1., 1.],\n",
       "        ...,\n",
       "        [1., 1., 1., ..., 1., 1., 1.],\n",
       "        [1., 1., 1., ..., 1., 1., 1.],\n",
       "        [1., 1., 1., ..., 1., 1., 1.]],\n",
       "\n",
       "       [[1., 1., 1., ..., 1., 1., 1.],\n",
       "        [1., 1., 1., ..., 1., 1., 1.],\n",
       "        [1., 1., 1., ..., 1., 1., 1.],\n",
       "        ...,\n",
       "        [1., 1., 1., ..., 1., 1., 1.],\n",
       "        [1., 1., 1., ..., 1., 1., 1.],\n",
       "        [1., 1., 1., ..., 1., 1., 1.]],\n",
       "\n",
       "       [[1., 1., 1., ..., 1., 1., 1.],\n",
       "        [1., 1., 1., ..., 1., 1., 1.],\n",
       "        [1., 1., 1., ..., 1., 1., 1.],\n",
       "        ...,\n",
       "        [1., 1., 1., ..., 1., 1., 1.],\n",
       "        [1., 1., 1., ..., 1., 1., 1.],\n",
       "        [1., 1., 1., ..., 1., 1., 1.]],\n",
       "\n",
       "       ...,\n",
       "\n",
       "       [[1., 1., 1., ..., 1., 1., 1.],\n",
       "        [1., 1., 1., ..., 1., 1., 1.],\n",
       "        [1., 1., 1., ..., 1., 1., 1.],\n",
       "        ...,\n",
       "        [1., 1., 1., ..., 1., 1., 1.],\n",
       "        [1., 1., 1., ..., 1., 1., 1.],\n",
       "        [1., 1., 1., ..., 1., 1., 1.]],\n",
       "\n",
       "       [[1., 1., 1., ..., 1., 1., 1.],\n",
       "        [1., 1., 1., ..., 1., 1., 1.],\n",
       "        [1., 1., 1., ..., 1., 1., 1.],\n",
       "        ...,\n",
       "        [1., 1., 1., ..., 1., 1., 1.],\n",
       "        [1., 1., 1., ..., 1., 1., 1.],\n",
       "        [1., 1., 1., ..., 1., 1., 1.]],\n",
       "\n",
       "       [[1., 1., 1., ..., 1., 1., 1.],\n",
       "        [1., 1., 1., ..., 1., 1., 1.],\n",
       "        [1., 1., 1., ..., 1., 1., 1.],\n",
       "        ...,\n",
       "        [1., 1., 1., ..., 1., 1., 1.],\n",
       "        [1., 1., 1., ..., 1., 1., 1.],\n",
       "        [1., 1., 1., ..., 1., 1., 1.]]])"
      ]
     },
     "execution_count": 65,
     "metadata": {},
     "output_type": "execute_result"
    }
   ],
   "source": [
    "np.ones(shape=(20, 30, 40))"
   ]
  },
  {
   "cell_type": "code",
   "execution_count": 67,
   "metadata": {},
   "outputs": [
    {
     "data": {
      "text/plain": [
       "array([[1., 0., 0., 0., 0., 0., 0., 0., 0., 0.],\n",
       "       [0., 1., 0., 0., 0., 0., 0., 0., 0., 0.],\n",
       "       [0., 0., 1., 0., 0., 0., 0., 0., 0., 0.],\n",
       "       [0., 0., 0., 1., 0., 0., 0., 0., 0., 0.],\n",
       "       [0., 0., 0., 0., 1., 0., 0., 0., 0., 0.],\n",
       "       [0., 0., 0., 0., 0., 1., 0., 0., 0., 0.],\n",
       "       [0., 0., 0., 0., 0., 0., 1., 0., 0., 0.],\n",
       "       [0., 0., 0., 0., 0., 0., 0., 1., 0., 0.],\n",
       "       [0., 0., 0., 0., 0., 0., 0., 0., 1., 0.],\n",
       "       [0., 0., 0., 0., 0., 0., 0., 0., 0., 1.]])"
      ]
     },
     "execution_count": 67,
     "metadata": {},
     "output_type": "execute_result"
    }
   ],
   "source": [
    "# 11 C\n",
    "np.eye(10, 10)"
   ]
  },
  {
   "cell_type": "code",
   "execution_count": 69,
   "metadata": {},
   "outputs": [],
   "source": [
    "# 11 D\n",
    "D = np.random.random((20, 20))"
   ]
  },
  {
   "cell_type": "code",
   "execution_count": 70,
   "metadata": {},
   "outputs": [],
   "source": [
    "# 11 E\n",
    "E = np.zeros_like(D)"
   ]
  },
  {
   "cell_type": "code",
   "execution_count": 71,
   "metadata": {},
   "outputs": [],
   "source": [
    "# 11 F\n",
    "F = np.ones_like(D)"
   ]
  },
  {
   "cell_type": "code",
   "execution_count": 72,
   "metadata": {},
   "outputs": [
    {
     "data": {
      "text/plain": [
       "array([0, 1, 2, 3, 4, 5, 6, 7, 8, 9])"
      ]
     },
     "execution_count": 72,
     "metadata": {},
     "output_type": "execute_result"
    }
   ],
   "source": [
    "# 11 G\n",
    "G = np.arange(10); G"
   ]
  },
  {
   "cell_type": "code",
   "execution_count": 76,
   "metadata": {},
   "outputs": [
    {
     "data": {
      "text/plain": [
       "array([-5, -4, -3, -2, -1,  0,  1,  2,  3,  4])"
      ]
     },
     "execution_count": 76,
     "metadata": {},
     "output_type": "execute_result"
    }
   ],
   "source": [
    "H = np.arange(-5,5); H"
   ]
  },
  {
   "cell_type": "code",
   "execution_count": 78,
   "metadata": {},
   "outputs": [
    {
     "data": {
      "text/plain": [
       "array([-10,  -8,  -6,  -4,  -2,   0,   2,   4,   6,   8])"
      ]
     },
     "execution_count": 78,
     "metadata": {},
     "output_type": "execute_result"
    }
   ],
   "source": [
    "I = np.arange(-10, 10, 2); I"
   ]
  },
  {
   "cell_type": "code",
   "execution_count": 85,
   "metadata": {},
   "outputs": [
    {
     "data": {
      "text/plain": [
       "array([[16,  3,  2, 13],\n",
       "       [ 5, 10, 11,  8],\n",
       "       [ 9,  6,  7, 12],\n",
       "       [ 4, 15, 14,  1]])"
      ]
     },
     "execution_count": 85,
     "metadata": {},
     "output_type": "execute_result"
    }
   ],
   "source": [
    "magic"
   ]
  },
  {
   "cell_type": "markdown",
   "metadata": {},
   "source": [
    "#### The inverse\n",
    "A matrix only has an inverse, if it's determinant is non-zero"
   ]
  },
  {
   "cell_type": "code",
   "execution_count": 103,
   "metadata": {},
   "outputs": [
    {
     "data": {
      "text/plain": [
       "2.4317390206737117e-13"
      ]
     },
     "execution_count": 103,
     "metadata": {},
     "output_type": "execute_result"
    }
   ],
   "source": [
    "np.linalg.det(magic)"
   ]
  },
  {
   "cell_type": "markdown",
   "metadata": {},
   "source": [
    "well, almost zero. Hence, the following will not produce sensible results."
   ]
  },
  {
   "cell_type": "code",
   "execution_count": 104,
   "metadata": {},
   "outputs": [
    {
     "data": {
      "text/plain": [
       "array([[ 5.59270542e+14,  1.67781163e+15, -1.67781163e+15,\n",
       "        -5.59270542e+14],\n",
       "       [-1.67781163e+15, -5.03343488e+15,  5.03343488e+15,\n",
       "         1.67781163e+15],\n",
       "       [ 1.67781163e+15,  5.03343488e+15, -5.03343488e+15,\n",
       "        -1.67781163e+15],\n",
       "       [-5.59270542e+14, -1.67781163e+15,  1.67781163e+15,\n",
       "         5.59270542e+14]])"
      ]
     },
     "execution_count": 104,
     "metadata": {},
     "output_type": "execute_result"
    }
   ],
   "source": [
    "J = np.linalg.inv(1.*magic); J"
   ]
  },
  {
   "cell_type": "code",
   "execution_count": 91,
   "metadata": {},
   "outputs": [
    {
     "data": {
      "text/plain": [
       "array([[ 2.,  0.,  0.,  0.],\n",
       "       [ 0.,  0.,  0.,  4.],\n",
       "       [ 0., -8.,  0.,  0.],\n",
       "       [ 0.,  0.,  0.,  0.]])"
      ]
     },
     "execution_count": 91,
     "metadata": {},
     "output_type": "execute_result"
    }
   ],
   "source": [
    "K = magic.dot(J); K\n"
   ]
  },
  {
   "cell_type": "code",
   "execution_count": 93,
   "metadata": {},
   "outputs": [
    {
     "data": {
      "text/plain": [
       "array([[ 8.94832867e+15,  5.03343488e+15, -3.35562325e+15,\n",
       "        -7.27051705e+15],\n",
       "       [-8.38905813e+15, -5.03343488e+16,  5.53677837e+16,\n",
       "         1.34224930e+16],\n",
       "       [ 1.51003046e+16,  3.02006093e+16, -3.52340441e+16,\n",
       "        -2.01337395e+16],\n",
       "       [-2.23708217e+15, -2.51671744e+16,  2.34893628e+16,\n",
       "         5.59270542e+14]])"
      ]
     },
     "execution_count": 93,
     "metadata": {},
     "output_type": "execute_result"
    }
   ],
   "source": [
    "L = J*magic; L"
   ]
  },
  {
   "cell_type": "code",
   "execution_count": 98,
   "metadata": {},
   "outputs": [
    {
     "data": {
      "text/plain": [
       "array([[ 8.94832867e+15,  2.68449860e+16, -2.68449860e+16,\n",
       "        -8.94832867e+15, -2.68449860e+16, -8.05349580e+16,\n",
       "         8.05349580e+16,  2.68449860e+16,  2.68449860e+16,\n",
       "         8.05349580e+16, -8.05349580e+16, -2.68449860e+16,\n",
       "        -8.94832867e+15, -2.68449860e+16,  2.68449860e+16,\n",
       "         8.94832867e+15],\n",
       "       [ 1.67781163e+15,  5.03343488e+15, -5.03343488e+15,\n",
       "        -1.67781163e+15, -5.03343488e+15, -1.51003046e+16,\n",
       "         1.51003046e+16,  5.03343488e+15,  5.03343488e+15,\n",
       "         1.51003046e+16, -1.51003046e+16, -5.03343488e+15,\n",
       "        -1.67781163e+15, -5.03343488e+15,  5.03343488e+15,\n",
       "         1.67781163e+15],\n",
       "       [ 1.11854108e+15,  3.35562325e+15, -3.35562325e+15,\n",
       "        -1.11854108e+15, -3.35562325e+15, -1.00668698e+16,\n",
       "         1.00668698e+16,  3.35562325e+15,  3.35562325e+15,\n",
       "         1.00668698e+16, -1.00668698e+16, -3.35562325e+15,\n",
       "        -1.11854108e+15, -3.35562325e+15,  3.35562325e+15,\n",
       "         1.11854108e+15],\n",
       "       [ 7.27051705e+15,  2.18115511e+16, -2.18115511e+16,\n",
       "        -7.27051705e+15, -2.18115511e+16, -6.54346534e+16,\n",
       "         6.54346534e+16,  2.18115511e+16,  2.18115511e+16,\n",
       "         6.54346534e+16, -6.54346534e+16, -2.18115511e+16,\n",
       "        -7.27051705e+15, -2.18115511e+16,  2.18115511e+16,\n",
       "         7.27051705e+15],\n",
       "       [ 2.79635271e+15,  8.38905813e+15, -8.38905813e+15,\n",
       "        -2.79635271e+15, -8.38905813e+15, -2.51671744e+16,\n",
       "         2.51671744e+16,  8.38905813e+15,  8.38905813e+15,\n",
       "         2.51671744e+16, -2.51671744e+16, -8.38905813e+15,\n",
       "        -2.79635271e+15, -8.38905813e+15,  8.38905813e+15,\n",
       "         2.79635271e+15],\n",
       "       [ 5.59270542e+15,  1.67781163e+16, -1.67781163e+16,\n",
       "        -5.59270542e+15, -1.67781163e+16, -5.03343488e+16,\n",
       "         5.03343488e+16,  1.67781163e+16,  1.67781163e+16,\n",
       "         5.03343488e+16, -5.03343488e+16, -1.67781163e+16,\n",
       "        -5.59270542e+15, -1.67781163e+16,  1.67781163e+16,\n",
       "         5.59270542e+15],\n",
       "       [ 6.15197596e+15,  1.84559279e+16, -1.84559279e+16,\n",
       "        -6.15197596e+15, -1.84559279e+16, -5.53677837e+16,\n",
       "         5.53677837e+16,  1.84559279e+16,  1.84559279e+16,\n",
       "         5.53677837e+16, -5.53677837e+16, -1.84559279e+16,\n",
       "        -6.15197596e+15, -1.84559279e+16,  1.84559279e+16,\n",
       "         6.15197596e+15],\n",
       "       [ 4.47416434e+15,  1.34224930e+16, -1.34224930e+16,\n",
       "        -4.47416434e+15, -1.34224930e+16, -4.02674790e+16,\n",
       "         4.02674790e+16,  1.34224930e+16,  1.34224930e+16,\n",
       "         4.02674790e+16, -4.02674790e+16, -1.34224930e+16,\n",
       "        -4.47416434e+15, -1.34224930e+16,  1.34224930e+16,\n",
       "         4.47416434e+15],\n",
       "       [ 5.03343488e+15,  1.51003046e+16, -1.51003046e+16,\n",
       "        -5.03343488e+15, -1.51003046e+16, -4.53009139e+16,\n",
       "         4.53009139e+16,  1.51003046e+16,  1.51003046e+16,\n",
       "         4.53009139e+16, -4.53009139e+16, -1.51003046e+16,\n",
       "        -5.03343488e+15, -1.51003046e+16,  1.51003046e+16,\n",
       "         5.03343488e+15],\n",
       "       [ 3.35562325e+15,  1.00668698e+16, -1.00668698e+16,\n",
       "        -3.35562325e+15, -1.00668698e+16, -3.02006093e+16,\n",
       "         3.02006093e+16,  1.00668698e+16,  1.00668698e+16,\n",
       "         3.02006093e+16, -3.02006093e+16, -1.00668698e+16,\n",
       "        -3.35562325e+15, -1.00668698e+16,  1.00668698e+16,\n",
       "         3.35562325e+15],\n",
       "       [ 3.91489379e+15,  1.17446814e+16, -1.17446814e+16,\n",
       "        -3.91489379e+15, -1.17446814e+16, -3.52340441e+16,\n",
       "         3.52340441e+16,  1.17446814e+16,  1.17446814e+16,\n",
       "         3.52340441e+16, -3.52340441e+16, -1.17446814e+16,\n",
       "        -3.91489379e+15, -1.17446814e+16,  1.17446814e+16,\n",
       "         3.91489379e+15],\n",
       "       [ 6.71124650e+15,  2.01337395e+16, -2.01337395e+16,\n",
       "        -6.71124650e+15, -2.01337395e+16, -6.04012185e+16,\n",
       "         6.04012185e+16,  2.01337395e+16,  2.01337395e+16,\n",
       "         6.04012185e+16, -6.04012185e+16, -2.01337395e+16,\n",
       "        -6.71124650e+15, -2.01337395e+16,  2.01337395e+16,\n",
       "         6.71124650e+15],\n",
       "       [ 2.23708217e+15,  6.71124650e+15, -6.71124650e+15,\n",
       "        -2.23708217e+15, -6.71124650e+15, -2.01337395e+16,\n",
       "         2.01337395e+16,  6.71124650e+15,  6.71124650e+15,\n",
       "         2.01337395e+16, -2.01337395e+16, -6.71124650e+15,\n",
       "        -2.23708217e+15, -6.71124650e+15,  6.71124650e+15,\n",
       "         2.23708217e+15],\n",
       "       [ 8.38905813e+15,  2.51671744e+16, -2.51671744e+16,\n",
       "        -8.38905813e+15, -2.51671744e+16, -7.55015232e+16,\n",
       "         7.55015232e+16,  2.51671744e+16,  2.51671744e+16,\n",
       "         7.55015232e+16, -7.55015232e+16, -2.51671744e+16,\n",
       "        -8.38905813e+15, -2.51671744e+16,  2.51671744e+16,\n",
       "         8.38905813e+15],\n",
       "       [ 7.82978759e+15,  2.34893628e+16, -2.34893628e+16,\n",
       "        -7.82978759e+15, -2.34893628e+16, -7.04680883e+16,\n",
       "         7.04680883e+16,  2.34893628e+16,  2.34893628e+16,\n",
       "         7.04680883e+16, -7.04680883e+16, -2.34893628e+16,\n",
       "        -7.82978759e+15, -2.34893628e+16,  2.34893628e+16,\n",
       "         7.82978759e+15],\n",
       "       [ 5.59270542e+14,  1.67781163e+15, -1.67781163e+15,\n",
       "        -5.59270542e+14, -1.67781163e+15, -5.03343488e+15,\n",
       "         5.03343488e+15,  1.67781163e+15,  1.67781163e+15,\n",
       "         5.03343488e+15, -5.03343488e+15, -1.67781163e+15,\n",
       "        -5.59270542e+14, -1.67781163e+15,  1.67781163e+15,\n",
       "         5.59270542e+14]])"
      ]
     },
     "execution_count": 98,
     "metadata": {},
     "output_type": "execute_result"
    }
   ],
   "source": [
    "M = np.outer(magic,J); M"
   ]
  }
 ],
 "metadata": {
  "kernelspec": {
   "display_name": "Python 3",
   "language": "python",
   "name": "python3"
  },
  "language_info": {
   "codemirror_mode": {
    "name": "ipython",
    "version": 3
   },
   "file_extension": ".py",
   "mimetype": "text/x-python",
   "name": "python",
   "nbconvert_exporter": "python",
   "pygments_lexer": "ipython3",
   "version": "3.8.5"
  }
 },
 "nbformat": 4,
 "nbformat_minor": 4
}
