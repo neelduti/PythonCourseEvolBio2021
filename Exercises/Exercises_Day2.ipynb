{
 "cells": [
  {
   "cell_type": "markdown",
   "metadata": {},
   "source": [
    "# Exercises for Day 2\n",
    "## Git\n",
    "1. Configuring git\n",
    "    1. Configure `git` with your name and email. If you intend to use `nano` for editing commit messages, also configure `git` accordingly.\n",
    "    1. Create a ssh keypair and upload the **public** key to your gitlab profile.\n",
    "1. Fork the exercise repo\n",
    "    1. Navigate to https://gitlab.gwdg.de/mpievolbio-scicomp/sequenceio.git\n",
    "    1. Create a _fork_ from the repository.\n",
    "1. Clone the forked repo to your desktop/laptop computer\n",
    "1. Copy the git-URL from your fork's website (click the \"Clone\" button and select the first web URL.)\n",
    "1. Open a terminal window (MS-Windows: open `git-bash`).\n",
    "1. `cd` to your home directory\n",
    "1. `cd` to _Desktop/_ .\n",
    "1. Clone the forked repository (enter `git clone ` and paste the copied URL from above).\n",
    "1. Open the README.md file and add your name to the table.\n",
    "1. Commit your changes.\n",
    "1. Push your changes to gitlab.\n",
    "1. It gitlab, create a merge request against the master branch of the original repository. \n",
    "\n",
    "## Flow Control and string operations.\n",
    "1. The following code generates a random sequence of specified length:\n",
    "```python\n",
    "    import random\n",
    "    def randomseq(length=1):\n",
    "        \"\"\" Generate a random sequence of length `length`.\n",
    "        :param length: The length of the sequence (number of bases).\n",
    "        :type length: int\n",
    "        \n",
    "        :return: A sequence of random nucleotide base letters 'a', 'c', 'g', and 't'.\n",
    "        :rtype: list\n",
    "        \n",
    "        \"\"\"\n",
    "        # Get a random sequence of letters. 4 out of 1000 letters are 'n', the rest equally distributed.\n",
    "        seq = random.choices(population='acgtn', k=length, cum_weights=[249,498,747,996,1000])\n",
    "        \n",
    "        # Return as a single string.\n",
    "        return \"\".join(seq)\n",
    "```\n",
    "   1. Copy and paste the snippet into an empty script.\n",
    "   1. Below the snippet, generate a random sequence of a length  of your choice and store it in a variable (e.g. `sequence = randomseq(length=128)`)\n",
    "   1. Print the sequence to the screen.\n",
    "   1. Find out if any undetermined bases 'n' occur in the sequence. If 'n's  appear, print out a warning message.\n",
    "       **Hints**: Use `set` to get a set of unique bases in the sequence. \n",
    "   1. Count the number of a's, c's, g's and t's in the sequence. (Use a `for` loop).\n",
    "   1. Determine the relative frequency of 'CG/GC' pairs in your sequence (Use two while loops).\n",
    "   1. Determine the positions of **all** start codons 'atg' in your sequence (if any). Use a `while` loop.\n",
    "   1. Write the absolute and relative nucleotide frequencies to the screen.\n",
    "   1. Write the CG content to the screen.\n",
    "   1. Write the number and positions of start codons to the screen.\n",
    "   1. How many unique base-triplets are in your sequence that do not contain 'n'? Use a list comprehension."
   ]
  }
 ],
 "metadata": {
  "kernelspec": {
   "display_name": "Python 3",
   "language": "python",
   "name": "python3"
  },
  "language_info": {
   "codemirror_mode": {
    "name": "ipython",
    "version": 3
   },
   "file_extension": ".py",
   "mimetype": "text/x-python",
   "name": "python",
   "nbconvert_exporter": "python",
   "pygments_lexer": "ipython3",
   "version": "3.8.5"
  }
 },
 "nbformat": 4,
 "nbformat_minor": 4
}
