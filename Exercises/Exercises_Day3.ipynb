{
 "cells": [
  {
   "cell_type": "markdown",
   "metadata": {},
   "source": [
    "# Exercises for Day 3"
   ]
  },
  {
   "cell_type": "markdown",
   "metadata": {},
   "source": [
    "## Functions, File IO, Git, testing\n",
    "The objective of this exercise is to implement the function\n",
    "`split_sequences(filename, sequence_type='AA')`\n",
    "that fulfills the following requirements:\n",
    "* It tests if the file named `filename` exists.\n",
    "* The keyword argument `sequence_type` indicates whether the file contains aminoacids ('AA') or nucleic acids ('NA').\n",
    "* It reads in all sequences\n",
    "* It tests that only letters permitted for the given `sequence_type` are in the sequence.\n",
    "* It writes each sequence to a separate file named by the sequence identifier (the string after the '>' character that starts a new sequence).\n",
    "* If a file already exists, a warning is printed to screen and the file gets overwritten.\n",
    "* The function returns a dictionary. Keys = sequence ID, Value = absolute path to the file containing the sequence.\n",
    "\n",
    "\n",
    "We start where we left in the `git` exercise of Day 2.\n",
    "1. `cd` into the directory *~/Desktop/sequenceio/*. You will find two directories, _test/_ and _seqio/_.\n",
    "1. First open the test module _test/test_seqio.py_. Triple ### comments mark sections to be completed by you. \n",
    "    1. Fix all the missing parts.\n",
    "    1. From the repository root directory (_~/Desktop/sequenceio/_), run the test module:\n",
    "        ```shell\n",
    "        pytest test/test_seqio.py\n",
    "        ```\n",
    "    You should only observe test **failures** but no **errors**. \n",
    "    If you get **errors**, you need to correct the test module.\n",
    "    1. Commit your fixed test module to git.\n",
    "    \n",
    "1. Now open the file _seqio/seqio.py_. Again, the triple ### comments mark the sections to be fixed. \n",
    "    1. Fix all missing parts one by one. After each change, run the test module to see if your implementation fulfills the requirements.\n",
    "    1. Git commit your work whenever one test has been fixed.\n",
    "    \n",
    "1. Push your repository. \n",
    "1. Optional: Create a merge request targeting the master branch on mpievolbio-scicomp/sequenceio."
   ]
  },
  {
   "cell_type": "markdown",
   "metadata": {},
   "source": [
    "## numpy"
   ]
  },
  {
   "cell_type": "markdown",
   "metadata": {},
   "source": [
    "![melencolia](https://upload.wikimedia.org/wikipedia/commons/thumb/7/7a/Albrecht_D%C3%BCrer_-_Melencolia_I_-_Google_Art_Project_%28_AGDdr3EHmNGyA%29.jpg/475px-Albrecht_D%C3%BCrer_-_Melencolia_I_-_Google_Art_Project_%28_AGDdr3EHmNGyA%29.jpg)\n",
    "\n",
    "\"Melencolia I\" 1514 wood engraving by Albrecht Dürer. Photographic reproduction courtesy of Wikimedia. Original artwork is in the public domain.\n"
   ]
  },
  {
   "cell_type": "markdown",
   "metadata": {},
   "source": [
    "1. Define a 4x4 matrix that holds the numbers in the top right corner of Dürer's \"Melencolia\" (The number at position (1,0) is 5, the number at (2,0) is 9.)\n",
    "1. Calculate the sum over each row\n",
    "1. Calculate the sum over each column\n",
    "1. Calculate the sum over both main diagonals\n",
    "1. Calculate the sum over each quadrant.\n",
    "1. Calculate the sum over the max values from each row.\n",
    "1. Calculate the sum over the max values from each column.\n",
    "1. Calculate the mean over the matrix/rows/columns (Hint: use `numpy.mean()`)\n",
    "1. Calculate the median over the matrix/rows/columns (Hint: use `numpy.median()`)\n",
    "1. Calculate the 25% and the 75% quantilles for the array and per row and column:\n",
    "    1. Implement a function\n",
    "    1. Look up the numpy documentation to find the `numpy` builtin method.\n",
    "1. Construct the following arrays.\n",
    "    1. `A =` 100x100 array of zeros (`numpy.zeros()`)\n",
    "    1. `B =` 20x30x40 array of ones (`numpy.ones()`)\n",
    "    1. `C =` 10x10 array that is 0 everywhere and 1 on the diagonal (`numpy.eye()`)\n",
    "    1. `D =` A 20x20 array with random numbers between 0 and 1. (`numpy.random.random()`)\n",
    "    1. `E =` An array of the same shape as `D` but all zeros (`numpy.zeros_like()`)\n",
    "    1. `F =` An array of the same shape as `D` but all ones (`numpy.ones_like()`)\n",
    "    1. `G =` An array of shape (10,) with numbers from 0 to 9 (`numpy.arange()`)\n",
    "    1. `H =` An array of shape (10,) with numbers from -5 to 4. (`numpy.arange()`)\n",
    "    1. `I =` An array of shape (10,) with numbers from -10 to 8 with stride 2. (`numpy.arange()`)\n",
    "    1. `J` = The inverse of the \"Melencolia\" matrix.\n",
    "    1. `K` = The matrix inner product of \"Melencolia\" and its inverse (`J`).\n",
    "    1. `L` = The element-wise product of  \"Melencolia\" and its inverse (`J`).\n",
    "    1. `M` = The outer product of  \"Melencolia\" and its inverse (`J`) (a 16x16 matrix)\n",
    "    \n",
    "    "
   ]
  },
  {
   "cell_type": "code",
   "execution_count": null,
   "metadata": {},
   "outputs": [],
   "source": []
  }
 ],
 "metadata": {
  "kernelspec": {
   "display_name": "Python 3",
   "language": "python",
   "name": "python3"
  },
  "language_info": {
   "codemirror_mode": {
    "name": "ipython",
    "version": 3
   },
   "file_extension": ".py",
   "mimetype": "text/x-python",
   "name": "python",
   "nbconvert_exporter": "python",
   "pygments_lexer": "ipython3",
   "version": "3.8.5"
  }
 },
 "nbformat": 4,
 "nbformat_minor": 4
}
