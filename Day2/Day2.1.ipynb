{
 "cells": [
  {
   "cell_type": "markdown",
   "metadata": {},
   "source": [
    "# Programming: Flow Control\n",
    "\n",
    "## Decision Making\n",
    "\n",
    "While the data structures deal with storing data for further processing, and after processing, the data processing involves making decisions about how the data moves within the program. "
   ]
  },
  {
   "cell_type": "markdown",
   "metadata": {},
   "source": [
    "Sometimes we do write programs where the program does not make any decision, and the data flows linearly through each line of the code as they get executed one after the other.  \n",
    "\n",
    "For example, if we write an interactive program that asks the users to input there first and last names separated by a single white space and then prints it."
   ]
  },
  {
   "cell_type": "code",
   "execution_count": null,
   "metadata": {},
   "outputs": [],
   "source": [
    "#!/usr/bin/env python3\n",
    "# Ask the user to enter their first and last name seperated by a white space and store it in the variable named 'first_last_name'.\n",
    "first_last_name = input(\"Enter your first and last name seperated by whitespace: \")\n",
    "# Make a list contaiining both first and last names by splitting the input\n",
    "names_list = first_last_name.split()\n",
    "# Extract both names in variables.\n",
    "first_name = names_list[0]\n",
    "last_name = names_list[-1]\n",
    "# Pass both names to the output stream.\n",
    "print(\"\"\"First name : {}\n",
    "Last name : {}\"\"\".format(first_name, last_name))\n",
    "# Tell the user that they have reached the end of the program.\n",
    "print(\"The program ends here.\")"
   ]
  },
  {
   "cell_type": "markdown",
   "metadata": {},
   "source": [
    "The code does not make any decision by itself, and each line gets executed no matter what.\n",
    "\n",
    "However, we can write the code in a manner that it checks the input, and only prints the name if it is in the correct format."
   ]
  },
  {
   "cell_type": "markdown",
   "metadata": {},
   "source": [
    "## if Statement\n",
    "The **if statement** is a conditional flow control structure. It acts upon the result of an evaluation. **if** evaluates the expression next to it. When true, the block of code after the **if** clause is executed. Otherwise, the program passes over the **if block** and moves to the next code block."
   ]
  },
  {
   "cell_type": "markdown",
   "metadata": {},
   "source": [
    "<img src=\"If-Statement-in-Python.png\" alt=\"Drawing\" style=\"width: 400px;\"/>"
   ]
  },
  {
   "cell_type": "raw",
   "metadata": {},
   "source": [
    "if EXPRESSION:\n",
    "    BLOCK1\n",
    "BLOCK2"
   ]
  },
  {
   "cell_type": "code",
   "execution_count": null,
   "metadata": {},
   "outputs": [],
   "source": [
    "#!/usr/bin/env python3\n",
    "dna=input('Enter DNA sequence:')\n",
    "if 'n' in dna :\n",
    "    nbases=dna.lower().count('n')\n",
    "    print(\"dna sequence has {} undefined bases \".format(nbases))\n",
    "print(dna.upper())"
   ]
  },
  {
   "cell_type": "markdown",
   "metadata": {},
   "source": [
    "1. The expression must return **True** or **False**. Such expressions are called a **Boolean expression**, which are formed with the help of **comparison**, **identity** and **membership operators**.\n",
    "2. The colon (:) after the expression is important.\n",
    "3. The block governed by the if statement has to be indented, and only gets executed if the expression evalutes to True."
   ]
  },
  {
   "cell_type": "markdown",
   "metadata": {},
   "source": [
    "#### Membership operators"
   ]
  },
  {
   "cell_type": "code",
   "execution_count": null,
   "metadata": {},
   "outputs": [],
   "source": [
    "motif='gtccc'\n",
    "dna='atatattgtcccattt'\n",
    "motif in dna"
   ]
  },
  {
   "cell_type": "code",
   "execution_count": null,
   "metadata": {},
   "outputs": [],
   "source": [
    "motif not in dna"
   ]
  },
  {
   "cell_type": "markdown",
   "metadata": {},
   "source": [
    "#### Comparison operators"
   ]
  },
  {
   "cell_type": "markdown",
   "metadata": {},
   "source": [
    "| Comparison | Operator |\n",
    "| --- | --- |\n",
    "| Equal | == |\n",
    "| Not equal | != |\n",
    "| Less than | < |\n",
    "| Greater than | > |\n",
    "| Less than or equal to | <= |\n",
    "| Greater than or equal to | >= |"
   ]
  },
  {
   "cell_type": "code",
   "execution_count": null,
   "metadata": {},
   "outputs": [],
   "source": [
    "0<1"
   ]
  },
  {
   "cell_type": "code",
   "execution_count": null,
   "metadata": {},
   "outputs": [],
   "source": [
    "len('atgcgt')>=10"
   ]
  },
  {
   "cell_type": "code",
   "execution_count": null,
   "metadata": {},
   "outputs": [],
   "source": [
    "'a'=='A'"
   ]
  },
  {
   "cell_type": "code",
   "execution_count": null,
   "metadata": {},
   "outputs": [],
   "source": [
    "'GT' != 'AG'"
   ]
  },
  {
   "cell_type": "code",
   "execution_count": null,
   "metadata": {},
   "outputs": [],
   "source": [
    "'A'<'C'"
   ]
  },
  {
   "cell_type": "code",
   "execution_count": null,
   "metadata": {},
   "outputs": [],
   "source": [
    "10+1==11"
   ]
  },
  {
   "cell_type": "markdown",
   "metadata": {},
   "source": [
    "####  Do not confuse the assignment sign **=** with the comparison operator **==** "
   ]
  },
  {
   "cell_type": "markdown",
   "metadata": {},
   "source": [
    "#### Identity operators\n",
    "The identity operator `is` tests if the two compared objects reside at the same memory address."
   ]
  },
  {
   "cell_type": "markdown",
   "metadata": {},
   "source": [
    "| Operator | Description |\n",
    "| --- | --- |\n",
    "| is | True if the variables on either side of the operator point to the same object and false otherwise. |\n",
    "| is not | False if the variables on either side of the operator point to the same object and true otherwise. |"
   ]
  },
  {
   "cell_type": "code",
   "execution_count": null,
   "metadata": {},
   "outputs": [],
   "source": [
    "alphabet=['a', 't', 'g', 'c']"
   ]
  },
  {
   "cell_type": "code",
   "execution_count": null,
   "metadata": {},
   "outputs": [],
   "source": [
    "# Make a copy and check equality and identity\n",
    "newalphabet=alphabet[:]\n",
    "alphabet == newalphabet, alphabet is newalphabet"
   ]
  },
  {
   "cell_type": "code",
   "execution_count": null,
   "metadata": {},
   "outputs": [],
   "source": [
    "# Take a reference (another name for the same variable)\n",
    "alphabet_reference = alphabet\n",
    "alphabet_reference == alphabet, alphabet_reference is alphabet"
   ]
  },
  {
   "cell_type": "markdown",
   "metadata": {},
   "source": [
    "Now we can edit our program to ensure that wrong entries are not printed."
   ]
  },
  {
   "cell_type": "code",
   "execution_count": null,
   "metadata": {},
   "outputs": [],
   "source": [
    "#!/usr/bin/env python3\n",
    "# Ask the user to enter their first and last name seperated by a white space and store it in the variable named 'first_last_name'.\n",
    "first_last_name = input(\"Enter your first and last name seperated by whitespace: \")\n",
    "# Make a list contaiining both first and last names by splitting the input\n",
    "names_list = first_last_name.split()\n",
    "# Check if the list has just two elements, i.e. length of the names_list is 2.\n",
    "if len(names_list) == 2:\n",
    "    #Now we know that there are only two elements in the list so execute the following line\n",
    "    # Extract both names in variables\n",
    "    first_name = names_list[0]\n",
    "    last_name = names_list[-1]\n",
    "    #Pass both names to the output stream\n",
    "    print(\"\"\"\n",
    "    First name : {}\n",
    "    Last name : {}\"\"\".format(first_name, last_name))\n",
    "# Tell the user that they have reached the end of the program.\n",
    "print(\"The program ends here.\")"
   ]
  },
  {
   "cell_type": "markdown",
   "metadata": {},
   "source": [
    "## if-else \n",
    "\n",
    "An alternative block of code gets executed if the evalution of the expression next to the if statement does not return True."
   ]
  },
  {
   "cell_type": "markdown",
   "metadata": {},
   "source": [
    "<img src=\"If-Else-in-Python.jpg\" alt=\"Drawing\" style=\"width: 400px;\"/>"
   ]
  },
  {
   "cell_type": "raw",
   "metadata": {},
   "source": [
    "if EXPRESSION:\n",
    "    BLOCK1\n",
    "else:\n",
    "    BLOCK2"
   ]
  },
  {
   "cell_type": "markdown",
   "metadata": {},
   "source": [
    "Now we can inform the user that they have entered an incorrect format."
   ]
  },
  {
   "cell_type": "code",
   "execution_count": null,
   "metadata": {},
   "outputs": [],
   "source": [
    "#!/usr/bin/env python3\n",
    "# Ask the user to enter their first and last name seperated by a white space and store it in the variable named 'first_last_name'.\n",
    "first_last_name = input(\"Enter your first and last name seperated by whitespace: \")\n",
    "# Make a list contaiining both first and last names by splitting the input\n",
    "names_list = first_last_name.split()\n",
    "# Check if the list has just two elements, i.e. length of the names_list is 2.\n",
    "if len(names_list) == 2:\n",
    "    #Now we know that there are only two elements in the list so execute the following line\n",
    "    # Extract both names in variables\n",
    "    first_name = names_list[0]\n",
    "    last_name = names_list[-1]\n",
    "    #Pass both names to the output stream\n",
    "    print(\"\"\"\n",
    "    First name : {}\n",
    "    Last name : {}\"\"\".format(first_name, last_name))\n",
    "else:\n",
    "    # Since the list does not have just two memebers, tell the users that they did not use the correct format\n",
    "    print('You did not use the correct format. Please try again!')\n",
    "print(\"The program ends here.\")"
   ]
  },
  {
   "cell_type": "markdown",
   "metadata": {},
   "source": [
    "## Elif and Nested if-else\n",
    "\n",
    "To test multiple expressions one after the other we use **elif**, which is short of **else if**. "
   ]
  },
  {
   "cell_type": "raw",
   "metadata": {},
   "source": [
    "if EXPRESSION1:\n",
    "    BLOCK1\n",
    "elif EXPRESSION2:\n",
    "    BLOCK2\n",
    "elif EXPRESSION3:\n",
    "    BLOCK3\n",
    "elif EXPRESSION4:\n",
    "    BLOCK4\n",
    "else:\n",
    "    BLOCK5"
   ]
  },
  {
   "cell_type": "markdown",
   "metadata": {},
   "source": [
    "We can tell the user if they have entered more/less than two names."
   ]
  },
  {
   "cell_type": "code",
   "execution_count": null,
   "metadata": {},
   "outputs": [],
   "source": [
    "#!/usr/bin/env python3\n",
    "# Ask the user to enter their first and last name seperated by a white space and store it in the variable named 'first_last_name'.\n",
    "first_last_name = input(\"Enter your first and last name seperated by whitespace: \")\n",
    "# Make a list contaiining both first and last names by splitting the input\n",
    "names_list = first_last_name.split()\n",
    "# Check if the list has just two elements, i.e. length of the names_list is 2.\n",
    "if len(names_list) == 2:\n",
    "    #Now we know that there are only two elements in the list so execute the following line\n",
    "    # Extract both names in variables\n",
    "    first_name = names_list[0]\n",
    "    last_name = names_list[-1]\n",
    "    #Pass both names to the output stream\n",
    "    print(\"\"\"\n",
    "    First name : {}\n",
    "    Last name : {}\"\"\".format(first_name, last_name))\n",
    "elif len(names_list) > 2:\n",
    "    # Tell the user that they have entered more than two names\n",
    "    print('You entered more than two names. Please try again!')\n",
    "else:\n",
    "    # Tell the user that they have entered less than two names\n",
    "    print('You entered less than two names. Please try again!')\n",
    "print(\"The program ends here.\")"
   ]
  },
  {
   "cell_type": "markdown",
   "metadata": {},
   "source": [
    "To test expressions that are subsets of a previous expression we use **nested if-else**."
   ]
  },
  {
   "cell_type": "raw",
   "metadata": {},
   "source": [
    "if EXPRESSION1:\n",
    "    if EXPRESSION2:\n",
    "        BLOCK1\n",
    "    else:\n",
    "        BLOCK2"
   ]
  },
  {
   "cell_type": "code",
   "execution_count": null,
   "metadata": {},
   "outputs": [],
   "source": [
    "#!/usr/bin/env python3\n",
    "# Ask the user to enter their first and last name seperated by a white space and store it in the variable named 'first_last_name'.\n",
    "first_last_name = input(\"Enter your first and last name seperated by whitespace: \")\n",
    "# Make a list contaiining both first and last names by splitting the input\n",
    "names_list = first_last_name.split()\n",
    "# Check if the list has just two elements, i.e. length of the names_list is 2.\n",
    "if len(names_list) == 2:\n",
    "    #Now we know that there are only two elements in the list so execute the following line\n",
    "    # Extract both names in variables\n",
    "    first_name = names_list[0]\n",
    "    last_name = names_list[-1]\n",
    "    #Pass both names to the output stream\n",
    "    print(\"\"\"\n",
    "    First name : {}\n",
    "    Last name : {}\"\"\".format(first_name, last_name))\n",
    "elif len(names_list) > 2:\n",
    "    # Tell the user that they have entered more than two names\n",
    "    print('You entered more than two names. Please try again!')\n",
    "else:\n",
    "    if len(names_list) == 0:\n",
    "        # Tell the user that they have did not enter any name\n",
    "        print('You did not enter any name. Please try again!')\n",
    "    elif len(names_list) == 1:\n",
    "        # Tell the user that they have enterd just one name\n",
    "        print('You either entered just one name or forgot the whitespace. Please try again!')\n",
    "print(\"The program ends here.\")"
   ]
  },
  {
   "cell_type": "markdown",
   "metadata": {},
   "source": [
    "### Logical operators"
   ]
  },
  {
   "cell_type": "markdown",
   "metadata": {},
   "source": [
    "| Operator | Description\n",
    "| --- | --- |\n",
    "| and | True if both conditions are true |\n",
    "| or | True if at least one condition is true |\n",
    "| not | True if condition is false |"
   ]
  },
  {
   "cell_type": "code",
   "execution_count": null,
   "metadata": {},
   "outputs": [],
   "source": [
    "#!/usr/bin/env python\n",
    "dna=input('Enter DNA sequence:')\n",
    "if 'n' in dna or 'N' in dna:\n",
    "    #counts undefined bases for both upper and lower cases\n",
    "    nbases=dna.count('n')+dna.count('N')\n",
    "    print(\"dna sequence has {} undefined bases \".format(nbases))\n",
    "else:\n",
    "    print(\"dna sequence has no undefined bases\")\n",
    "print(dna)"
   ]
  },
  {
   "cell_type": "markdown",
   "metadata": {},
   "source": [
    "# Loops\n",
    "\n",
    "*The Njoy FM station seems to be playing the same songs on a loop.*"
   ]
  },
  {
   "cell_type": "markdown",
   "metadata": {},
   "source": [
    "Loops are the python control structures that allow us to perform the same task repeatedly.\n",
    "\n",
    "Python has two loops, **for** loop and **while** loop.\n"
   ]
  },
  {
   "cell_type": "markdown",
   "metadata": {},
   "source": [
    "## while Loop\n",
    "\n",
    "A `while` loop keeps executing a block of code inside it, until the condition\n",
    "given to it returns `False`. Note that the condition must evaluate to `True` to enter the body of the while loop in the first case."
   ]
  },
  {
   "cell_type": "markdown",
   "metadata": {},
   "source": [
    "<img src=\"while-loop.jpg\" alt=\"Drawing\" style=\"width: 400px;\"/>"
   ]
  },
  {
   "cell_type": "raw",
   "metadata": {},
   "source": [
    "while EXPRESSION:\n",
    "    BLOCK"
   ]
  },
  {
   "cell_type": "markdown",
   "metadata": {},
   "source": [
    "#### The block of code inside the while loop should have an instruction that leads to a false return for the given expression. Otherwise the loop will never end."
   ]
  },
  {
   "cell_type": "code",
   "execution_count": null,
   "metadata": {},
   "outputs": [],
   "source": [
    "n = 1\n",
    "while n < 10:\n",
    "    print(n)\n",
    "    n = n + 1"
   ]
  },
  {
   "cell_type": "markdown",
   "metadata": {},
   "source": [
    "We can keep asking the user to enter their name in the correct format."
   ]
  },
  {
   "cell_type": "code",
   "execution_count": null,
   "metadata": {},
   "outputs": [],
   "source": [
    "#!/usr/bin/env python3\n",
    "#intiate an empty names_list\n",
    "names_list = []\n",
    "#Repeat till user prvides the names in correct format\n",
    "while len(names_list) != 2:\n",
    "    # Ask the user to enter their first and last name seperated by a white space and store it in the variable named 'first_last_name'.\n",
    "    first_last_name = input(\"Enter your first and last name seperated by whitespace: \")\n",
    "    # Reassign the names_list by splitting the input\n",
    "    names_list = first_last_name.split()\n",
    "    # Check if the list has just two elements, i.e. length of the names_list is 2.\n",
    "    if len(names_list) == 2:\n",
    "        #Now we know that there are only two elements in the list so execute the following line\n",
    "        # Extract both names in variables\n",
    "        first_name = names_list[0]\n",
    "        last_name = names_list[-1]\n",
    "        #Pass both names to the output stream\n",
    "        print(\"\"\"\n",
    "        First name : {}\n",
    "        Last name : {}\"\"\".format(first_name, last_name))\n",
    "    else:\n",
    "        # Since the list does not have just two memebers, tell the users that they did not use the correct format\n",
    "        print('You did not use the correct format. Please try again!')\n",
    "print(\"The program ends here.\")"
   ]
  },
  {
   "cell_type": "markdown",
   "metadata": {},
   "source": [
    "## for Loop\n",
    "\n",
    "Python’s for loop iterates over the items of any sequence (a list, a string, or a tuple) or any other iterable objects, in the order that they appear in the sequence."
   ]
  },
  {
   "cell_type": "markdown",
   "metadata": {},
   "source": [
    "<img src=\"for-loop.jpg\" alt=\"Drawing\" style=\"width: 400px;\"/>"
   ]
  },
  {
   "cell_type": "raw",
   "metadata": {},
   "source": [
    "for VAR in ITERABLE:\n",
    "    BLOCK\n",
    "\n",
    "For example:\n",
    "\n",
    "for each_item in some_list:\n",
    "    # Do something with each_item\n",
    "    print(each_item)"
   ]
  },
  {
   "cell_type": "code",
   "execution_count": null,
   "metadata": {},
   "outputs": [],
   "source": [
    "motifs=[\"attccgt\",\"agggggtttttcg\",\"gtagc\"]\n",
    "for m in motifs:\n",
    "    print(m, len(m))    "
   ]
  },
  {
   "cell_type": "markdown",
   "metadata": {},
   "source": [
    "### range() Fucntion\n",
    "The range() built-in function allows you to iterate over a sequence of numbers."
   ]
  },
  {
   "cell_type": "code",
   "execution_count": null,
   "metadata": {},
   "outputs": [],
   "source": [
    "for n in range(10):\n",
    "    print(n)"
   ]
  },
  {
   "cell_type": "markdown",
   "metadata": {},
   "source": [
    "**range(start, stop, step)** can be used to define start, stop, and steps (length of the interval)."
   ]
  },
  {
   "cell_type": "code",
   "execution_count": null,
   "metadata": {},
   "outputs": [],
   "source": [
    "for n in range(1,10,2):\n",
    "    print(n)"
   ]
  },
  {
   "cell_type": "markdown",
   "metadata": {},
   "source": [
    "#### **Problem**: Find if all characters in a given protein sequence are valid amino acids."
   ]
  },
  {
   "cell_type": "code",
   "execution_count": null,
   "metadata": {},
   "outputs": [],
   "source": [
    "protein='SDVIHRYKUUPAKSHGWYVCJRSRFTWMVWWRFRSCRA'\n",
    "#for each character in protein sequence\n",
    "for i in range(len(protein)):\n",
    "    #if character is not amino acid\n",
    "    if protein[i] not in 'ABCDEFGHIKLMNPQRSTVWXYZ':\n",
    "        #print invalid character and its position in protein\n",
    "        print(\"protein contains invalid amino acid {} at position {}\".format(protein[i],i))"
   ]
  },
  {
   "cell_type": "markdown",
   "metadata": {},
   "source": [
    "### break Statement\n",
    "The break statement terminates the nearest enclosing loop (a `for` loop or a `while` loop)."
   ]
  },
  {
   "cell_type": "markdown",
   "metadata": {},
   "source": [
    "<img src=\"flowchart-break-statement.jpg\" alt=\"Drawing\" style=\"width: 400px;\"/>"
   ]
  },
  {
   "cell_type": "markdown",
   "metadata": {},
   "source": [
    "<img src=\"how-break-statement-works.jpg\" alt=\"Drawing\" style=\"width: 400px;\"/>"
   ]
  },
  {
   "cell_type": "code",
   "execution_count": 12,
   "metadata": {},
   "outputs": [
    {
     "name": "stdout",
     "output_type": "stream",
     "text": [
      " this is not a valid protein sequence!\n"
     ]
    }
   ],
   "source": [
    "### COMMENT: better would be to use enumerate, see below.\n",
    "protein='SDVIHRYKUUPAKSHGWYVCJRSRFTWMVWWRFRSCRA'\n",
    "#for each character in protein sequence\n",
    "# That\n",
    "for i in range(len(protein)):\n",
    "    #if character is not amino acid\n",
    "    if protein[i] not in 'ABCDEFGHIKLMNPQRSTVWXYZ':\n",
    "        #print this is not a valid sequence\n",
    "        print(\" this is not a valid protein sequence!\")\n",
    "        #break out of the loop\n",
    "        break"
   ]
  },
  {
   "cell_type": "markdown",
   "metadata": {},
   "source": [
    "A more elegant solution to accessing the index and the element of a list in a for loop is to use the `enumerate` builtin function. The `enumerate` function takes a list or other `iterable` object as an argument and returns for each element a tuple that consists of the index and the element itself. \n",
    "\n",
    "\n",
    "Using the `enumerate` function, the above example becomes"
   ]
  },
  {
   "cell_type": "code",
   "execution_count": 11,
   "metadata": {},
   "outputs": [
    {
     "name": "stdout",
     "output_type": "stream",
     "text": [
      "Found invalid character U at position 8 in the given sequence.              This is not a valid protein sequence!\n"
     ]
    }
   ],
   "source": [
    "protein='SDVIHRYKUUPAKSHGWYVCJRSRFTWMVWWRFRSCRA'\n",
    "#for each character in protein sequence\n",
    "# That\n",
    "for idx, aa in enumerate(protein):\n",
    "    #if character is not amino acid\n",
    "    if aa not in 'ABCDEFGHIKLMNPQRSTVWXYZ':\n",
    "        #print this is not a valid sequence\n",
    "        print(\"Found invalid character {} at position {} in the given sequence.\\\n",
    "              This is not a valid protein sequence!\".format(aa, idx))\n",
    "        #break out of the loop\n",
    "        break"
   ]
  },
  {
   "cell_type": "markdown",
   "metadata": {},
   "source": [
    "## continue Statement\n",
    "The continue statement causes the program to continue with the next iteration of the nearest enclosing loop, skipping the rest of the code in the loop."
   ]
  },
  {
   "cell_type": "markdown",
   "metadata": {},
   "source": [
    "<img src=\"continue-statement-flowchart.jpg\" alt=\"Drawing\" style=\"width: 400px;\"/>"
   ]
  },
  {
   "cell_type": "markdown",
   "metadata": {},
   "source": [
    "<img src=\"how-continue-statment-works.jpg\" alt=\"Drawing\" style=\"width: 400px;\"/>"
   ]
  },
  {
   "cell_type": "markdown",
   "metadata": {},
   "source": [
    "#### **Problem**: Delete all invalid amino acid characters from a protein sequence."
   ]
  },
  {
   "cell_type": "code",
   "execution_count": null,
   "metadata": {},
   "outputs": [],
   "source": [
    "protein='SDVIHRYKUUPAKSHGWYVCJRSRFTWMVWWRFRSCRA'\n",
    "corrected_protein=''\n",
    "for i in range(len(protein)):\n",
    "    if protein[i] not in 'ABCDEFGHIKLMNPQRSTVWXYZ':\n",
    "        # If the residue is not a valid residue continue to the next residue\n",
    "        continue\n",
    "    # If the residue is a valid residue add it to the corrected_proteins\n",
    "    corrected_protein=corrected_protein+protein[i]\n",
    "print(\"Corrected protein sequence is: {}\".format(corrected_protein))"
   ]
  },
  {
   "cell_type": "markdown",
   "metadata": {},
   "source": [
    "### pass Statement\n",
    "\n",
    "1. Python's pass statement is a placeholder: it does nothing.\n",
    "2. It is used when a statement is required syntactically but you do not want any command or code to execute."
   ]
  },
  {
   "cell_type": "raw",
   "metadata": {},
   "source": [
    "if motif not in dna:\n",
    "    pass\n",
    "else:\n",
    "    some_function_here(motif,dna)"
   ]
  },
  {
   "cell_type": "markdown",
   "metadata": {},
   "source": [
    "3. Sometimes you can use the pass statement if you didn’t yet write the code but need the placeholder so that the syntax of the rest of your program is correct."
   ]
  },
  {
   "cell_type": "markdown",
   "metadata": {},
   "source": [
    "## else Statement with Loops\n",
    "\n",
    "Loop statements may have an **else** clause.\n",
    "\n",
    "•  If used with a for loop, the else statement is executed when the loop has exhausted iterating the list.\n",
    "\n",
    "•  If used with a while loop, the else statement is executed when the condition becomes false."
   ]
  },
  {
   "cell_type": "markdown",
   "metadata": {},
   "source": [
    "####  The else statement is not executed if the loop is terminated by the break statement!"
   ]
  },
  {
   "cell_type": "markdown",
   "metadata": {},
   "source": [
    "#### **Problem**: Find all prime numbers smaller than a given integer."
   ]
  },
  {
   "cell_type": "code",
   "execution_count": null,
   "metadata": {},
   "outputs": [],
   "source": [
    "N=10\n",
    "for y in range(2, N): # should skip all even numbers :)\n",
    "    for x in range(2, y):\n",
    "        if y % x == 0:\n",
    "            print(y, 'equals', x, '*', y//x)\n",
    "            break\n",
    "    else:\n",
    "    # loop fell through without finding a factor ... print(y, 'is a prime number')\n",
    "        print(y, 'is a prime number')"
   ]
  },
  {
   "cell_type": "markdown",
   "metadata": {},
   "source": [
    "## References\n",
    "\n",
    "* [Python for Bioinformatics](https://www.routledge.com/Python-for-Bioinformatics/Bassi/p/book/9781138035263)"
   ]
  }
 ],
 "metadata": {
  "kernelspec": {
   "display_name": "Python 3",
   "language": "python",
   "name": "python3"
  },
  "language_info": {
   "codemirror_mode": {
    "name": "ipython",
    "version": 3
   },
   "file_extension": ".py",
   "mimetype": "text/x-python",
   "name": "python",
   "nbconvert_exporter": "python",
   "pygments_lexer": "ipython3",
   "version": "3.8.6"
  }
 },
 "nbformat": 4,
 "nbformat_minor": 4
}
