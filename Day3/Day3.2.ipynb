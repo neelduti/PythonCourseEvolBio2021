{
 "cells": [
  {
   "cell_type": "markdown",
   "metadata": {},
   "source": [
    "# File Handling"
   ]
  },
  {
   "cell_type": "markdown",
   "metadata": {},
   "source": [
    "## Reading files\n",
    "\n",
    "Reading files is a three step process in python.\n",
    "\n",
    "### 1. **File opening** \n",
    "\n",
    "- First we create a filehandle using the builtin function `open(filename, mode)`. Now, till we close the file, this file handle will be used to refer to the file. \n",
    "\n",
    "- The open function takes two parameters: **name of the file** and **opening mode**. \n",
    "    - The file name is a string with the file name, in most cases including the system path. \n",
    "        - If the system path is included, then this absolute path is used \n",
    "        - If we enter just the file name, then a relative path is assumed. \n",
    "    - Valid parameters for the opening mode:\n",
    "        - “r” to only read, which is also the default value.\n",
    "        - “w” to only write, if the file already exits this mode overwrites (truncates) and hence existing data is lost. \n",
    "        - “a” to append data at the end of an existing file. \n",
    "        - \"r+\" to both read and then write at the begining of the file.\n"
   ]
  },
  {
   "cell_type": "markdown",
   "metadata": {},
   "source": [
    "|          Mode          |  r   |  r+  |  w   |  w+  |  a   |  a+  |\n",
    "| :--------------------: | :--: | :--: | :--: | :--: | :--: | :--: |\n",
    "|          Read          |  +   |  +   |      |  +   |      |  +   |\n",
    "|         Write          |      |  +   |  +   |  +   |  +   |  +   |\n",
    "|         Create         |      |      |  +   |  +   |  +   |  +   |\n",
    "|         Cover          |      |      |  +   |  +   |      |      |\n",
    "| Point in the beginning |  +   |  +   |  +   |  +   |      |      |\n",
    "|    Point in the end    |      |      |      |      |  +   |  +   |\n"
   ]
  },
  {
   "cell_type": "markdown",
   "metadata": {},
   "source": [
    "<img src=\"FileOpeningSummary.png\" alt=\"Drawing\" style=\"width: 700px;\"/>"
   ]
  },
  {
   "cell_type": "code",
   "execution_count": null,
   "metadata": {},
   "outputs": [],
   "source": [
    "fh = open('protein.fasta', 'r')\n",
    "fh"
   ]
  },
  {
   "cell_type": "markdown",
   "metadata": {},
   "source": [
    "### 2. **Reading** from the file\n",
    "\n",
    "A file can be read once it is opened. We can apply several methods on the file handle to read the file. For example,\n",
    " - **read(n)**: With the parameter n it returns n byte from the file, without the parameter it reads the entire file.\n",
    " - **readline()**: Returns a single line from the file, with '\\n' as the end of line marker. The read posititon then advances to the beginning of the next line such that the next call to `readline()` returns the next line. After reaching the end of the file, it returns an empty string.\n",
    " - **readlines()**: Returns a string with all lines of the file joined by the newline character '\\n'.\n"
   ]
  },
  {
   "cell_type": "code",
   "execution_count": null,
   "metadata": {},
   "outputs": [],
   "source": [
    "fh.read()"
   ]
  },
  {
   "cell_type": "code",
   "execution_count": null,
   "metadata": {},
   "outputs": [],
   "source": [
    "fh2 = open('protein.fasta', 'r')\n",
    "fh2.readline()"
   ]
  },
  {
   "cell_type": "code",
   "execution_count": null,
   "metadata": {},
   "outputs": [],
   "source": [
    "fh2.readline()"
   ]
  },
  {
   "cell_type": "code",
   "execution_count": null,
   "metadata": {},
   "outputs": [],
   "source": [
    "fh3 = open('protein.fasta', 'r')\n",
    "fh3.readlines()"
   ]
  },
  {
   "cell_type": "markdown",
   "metadata": {},
   "source": [
    "#### 3. **Closing** the file\n",
    "\n",
    "It is important to close a file once we are done with it. If we don't close the file Python will automatically close it at the end of the session. Nonetheless, to avoid unforseen consequences it is better to close the file as soon as possible.\n",
    "\n",
    "We close a file by using: **file_handle.close()** statement."
   ]
  },
  {
   "cell_type": "code",
   "execution_count": null,
   "metadata": {},
   "outputs": [],
   "source": [
    "fh.close()\n",
    "fh2.close()\n",
    "fh3.close()"
   ]
  },
  {
   "cell_type": "markdown",
   "metadata": {},
   "source": [
    "#### Using a context manager\n",
    "We can use **with** to ensure that our file gets closed.\n",
    "This is the preferred (safe!) way to open files as it guarantees the file gets closed even if an exception occurs while it is open."
   ]
  },
  {
   "cell_type": "code",
   "execution_count": null,
   "metadata": {},
   "outputs": [],
   "source": [
    "with open('protein.fasta', 'r') as read_handle:\n",
    "    #do whatever with the file\n",
    "    file_content = read_handle.read() \n",
    "    # the read method returns the content of the file from the current postion till the end of the file.\n",
    "    # And now we have stored it in the variable 'file_content'\n",
    "    print(\"File closed at 1:\")\n",
    "    print(read_handle.closed)\n",
    "    # the file closes as soon we get out of here\n",
    "print(\"File closed at 2:\")\n",
    "print(read_handle.closed)"
   ]
  },
  {
   "cell_type": "code",
   "execution_count": null,
   "metadata": {},
   "outputs": [],
   "source": [
    "file_content"
   ]
  },
  {
   "cell_type": "markdown",
   "metadata": {},
   "source": [
    "#### **Problem**:\n",
    "Read the protein.fasta file and store the sequences and their identifiers as dictionary values and keys."
   ]
  },
  {
   "cell_type": "code",
   "execution_count": null,
   "metadata": {},
   "outputs": [],
   "source": [
    "#intiate empty dictionary\n",
    "dict_fasta = {}\n",
    "with open('protein.fasta', 'r') as read_handle:\n",
    "    # iterate over each line\n",
    "    for line in read_handle:\n",
    "        # the line containg fasta id starts with >\n",
    "        if line[0] == '>':\n",
    "            # strip away the newline character at the end of the line and slice out the '>' to get the fasta_id\n",
    "            fasta_id = line[1:].strip('\\n')\n",
    "        #the line containg fasta sequence starts with an amino acid or X\n",
    "        elif line[0] in 'RNDBCEQZGHILKMFPSTWX':\n",
    "            # strip away the new line character to get the fasta sequence\n",
    "            seq = line.strip('\\n')\n",
    "            # populate the dictionary with fasta_id as they key and its correspondig sequence as the value\n",
    "            dict_fasta[fasta_id] = seq"
   ]
  },
  {
   "cell_type": "code",
   "execution_count": null,
   "metadata": {},
   "outputs": [],
   "source": [
    "dict_fasta"
   ]
  },
  {
   "cell_type": "markdown",
   "metadata": {},
   "source": [
    "## Writing files\n",
    "\n",
    "Writing to a file also has the same three steps as reading the file, except that we open the file in a write enabled mode and in the second step we write data to the file by calling the `write()` method.\n",
    "\n",
    "```python\n",
    "file_handle.write(string_that_is_to_be_written)\n",
    "```"
   ]
  },
  {
   "cell_type": "markdown",
   "metadata": {},
   "source": [
    "#### **Problem**:\n",
    "Read the file `protein.fasta` and store each fasta sequence in a seperate fasta file."
   ]
  },
  {
   "cell_type": "code",
   "execution_count": null,
   "metadata": {},
   "outputs": [],
   "source": [
    "with open('protein.fasta', 'r') as read_handle:\n",
    "    # iterate over each line\n",
    "    for line in read_handle.readlines():\n",
    "        # the line containg fasta id starts with >\n",
    "        if line[0] == '>':\n",
    "            # strip away the newline character at the end of the line and slice out the '>' to get the fasta_id\n",
    "            fasta_id = line[1:].strip('\\n')\n",
    "        #the line containg fasta sequence starts with an amino acid or X\n",
    "        elif line[0] in 'RNDBCEQZGHILKMFPSTWX':\n",
    "            # strip away the new line character to get the fasta sequence\n",
    "            seq = line.strip('\\n')\n",
    "            # name of the new fasta file\n",
    "            fl_name = '{}.fasta'.format(fasta_id)\n",
    "            # write the new fasta file\n",
    "            with open(fl_name, 'w') as write_handle:\n",
    "                # compose the string that is to be written\n",
    "                write_string = '>{}\\n{}\\n'.format(fasta_id, seq)\n",
    "                # write\n",
    "                write_handle.write(write_string)\n"
   ]
  },
  {
   "cell_type": "markdown",
   "metadata": {},
   "source": [
    "## CSV (Comma Seperated Values): file format involved in the bulk of data analysis\n",
    "\n",
    "- These are plain text files where data is seperated by comma, or other seperators such as tabs(\\t), colons(:), whitespace( ), pipe(|), etc.\n",
    "- Each line represents a seperate record.\n",
    "- All spreadsheets can be stored in this format."
   ]
  },
  {
   "cell_type": "code",
   "execution_count": null,
   "metadata": {},
   "outputs": [],
   "source": [
    "!cat course_contact.csv"
   ]
  },
  {
   "cell_type": "markdown",
   "metadata": {},
   "source": [
    "### Raw file IO:"
   ]
  },
  {
   "cell_type": "code",
   "execution_count": null,
   "metadata": {},
   "outputs": [],
   "source": [
    "with open('course_contact.csv') as read_handle:\n",
    "    #skip header and move to next line\n",
    "    next(read_handle)\n",
    "    for line in read_handle:\n",
    "        line = line.split(',')\n",
    "        print(\"\"\"\n",
    "        Contact\n",
    "        Name:\\t{1}\n",
    "        Room:\\t{0}\n",
    "        Phone:\\t{2}\n",
    "        Email:\\t{3}\"\"\".format(*line))"
   ]
  },
  {
   "cell_type": "markdown",
   "metadata": {},
   "source": [
    "### Using the `csv` module"
   ]
  },
  {
   "cell_type": "code",
   "execution_count": null,
   "metadata": {},
   "outputs": [],
   "source": [
    "import csv\n",
    "\n",
    "# Setup the csv reader.\n",
    "lines = csv.reader(open('course_contact.csv'), delimiter=',')\n",
    "\n",
    "# Skip the first (header) line.\n",
    "next(lines)\n",
    "\n",
    "# Loop over all lines.\n",
    "for line in lines:\n",
    "    print(\"\"\"\n",
    "    Contact\n",
    "    Name:\\t{1}\n",
    "    Room:\\t{0}\n",
    "    Phone:\\t{2}\n",
    "    Email:\\t{3}\"\"\".format(*line))"
   ]
  },
  {
   "cell_type": "markdown",
   "metadata": {},
   "source": [
    "## File handling though the os module (Operating System)\n",
    "\n",
    "os module is used for handling an interface between Python and the operating system.\n",
    "\n",
    "**getcwd()**: Get the current working directory."
   ]
  },
  {
   "cell_type": "code",
   "execution_count": null,
   "metadata": {},
   "outputs": [],
   "source": [
    "import os\n",
    "os.getcwd()"
   ]
  },
  {
   "cell_type": "markdown",
   "metadata": {},
   "source": [
    "**chdir(path)**: Go to the given path"
   ]
  },
  {
   "cell_type": "code",
   "execution_count": null,
   "metadata": {},
   "outputs": [],
   "source": [
    "pd = os.getcwd()\n",
    "os.chdir('..')\n",
    "os.getcwd()"
   ]
  },
  {
   "cell_type": "code",
   "execution_count": null,
   "metadata": {},
   "outputs": [],
   "source": [
    "os.chdir(pd)\n",
    "os.getcwd()"
   ]
  },
  {
   "cell_type": "markdown",
   "metadata": {},
   "source": [
    "**listdir(dir)**: List all the enteries in the the given directory."
   ]
  },
  {
   "cell_type": "code",
   "execution_count": null,
   "metadata": {},
   "outputs": [],
   "source": [
    "#list all files and folders in the current directory\n",
    "os.listdir('.')"
   ]
  },
  {
   "cell_type": "markdown",
   "metadata": {},
   "source": [
    "**path.isdir(directory_path)**: Checks if the given file directory path points to a directory or not."
   ]
  },
  {
   "cell_type": "code",
   "execution_count": null,
   "metadata": {},
   "outputs": [],
   "source": [
    "os.path.isdir('../Day2')"
   ]
  },
  {
   "cell_type": "code",
   "execution_count": null,
   "metadata": {},
   "outputs": [],
   "source": [
    "os.path.isdir('../Day6')"
   ]
  },
  {
   "cell_type": "markdown",
   "metadata": {},
   "source": [
    "**mkdir(path)**: Make new directory."
   ]
  },
  {
   "cell_type": "code",
   "execution_count": null,
   "metadata": {},
   "outputs": [],
   "source": [
    "os.mkdir('../Day6')"
   ]
  },
  {
   "cell_type": "code",
   "execution_count": null,
   "metadata": {},
   "outputs": [],
   "source": [
    "os.path.isdir('../Day6')"
   ]
  },
  {
   "cell_type": "markdown",
   "metadata": {},
   "source": [
    "**path.isfile(file_path)**: Checks if the given file path points to a file or not."
   ]
  },
  {
   "cell_type": "code",
   "execution_count": null,
   "metadata": {},
   "outputs": [],
   "source": [
    "os.path.isfile('course_contact.csv')"
   ]
  },
  {
   "cell_type": "code",
   "execution_count": null,
   "metadata": {},
   "outputs": [],
   "source": [
    "os.path.isfile('course_is_correct.csv')"
   ]
  },
  {
   "cell_type": "markdown",
   "metadata": {},
   "source": [
    "**remove(file_path)**: Remove an existing file."
   ]
  },
  {
   "cell_type": "code",
   "execution_count": null,
   "metadata": {},
   "outputs": [],
   "source": [
    "os.remove('./ENSNLET00000008753.fasta')"
   ]
  },
  {
   "cell_type": "code",
   "execution_count": null,
   "metadata": {},
   "outputs": [],
   "source": [
    "os.path.isfile('./ENSNLET00000008753.fasta')"
   ]
  },
  {
   "cell_type": "markdown",
   "metadata": {},
   "source": [
    "#### Remove a directory"
   ]
  },
  {
   "cell_type": "code",
   "execution_count": null,
   "metadata": {},
   "outputs": [],
   "source": [
    "os.rmdir(\"../Day6\")"
   ]
  },
  {
   "cell_type": "code",
   "execution_count": null,
   "metadata": {},
   "outputs": [],
   "source": [
    "os.path.exists(\"../Day6\")"
   ]
  },
  {
   "cell_type": "markdown",
   "metadata": {},
   "source": [
    "\n",
    "**rename(old_path, new_path)**: Rename an existing file.\n",
    "- Make sure not to overwrite on an existing file."
   ]
  },
  {
   "cell_type": "code",
   "execution_count": null,
   "metadata": {},
   "outputs": [],
   "source": [
    "os.rename('./ENST00000450565.fasta', './Human.fasta')"
   ]
  },
  {
   "cell_type": "code",
   "execution_count": null,
   "metadata": {},
   "outputs": [],
   "source": [
    "os.path.isfile('./ENST00000450565.fasta')"
   ]
  },
  {
   "cell_type": "code",
   "execution_count": null,
   "metadata": {},
   "outputs": [],
   "source": [
    "os.path.isfile('./Human.fasta')"
   ]
  },
  {
   "cell_type": "markdown",
   "metadata": {},
   "source": [
    "The `os.path` module contains many useful functions to handle paths in python. A few examples:"
   ]
  },
  {
   "cell_type": "code",
   "execution_count": null,
   "metadata": {},
   "outputs": [],
   "source": [
    "# Get the absolute path:\n",
    "os.path.abspath(\".\")"
   ]
  },
  {
   "cell_type": "code",
   "execution_count": null,
   "metadata": {},
   "outputs": [],
   "source": [
    "# Get the relative path with respect to a given starting point:\n",
    "os.path.relpath(\".\", \"..\")"
   ]
  },
  {
   "cell_type": "code",
   "execution_count": null,
   "metadata": {},
   "outputs": [],
   "source": [
    "# The parent directory of a given file or dir.\n",
    "os.path.dirname(\"..\") # \"__file__\" is a special variable for **this** file."
   ]
  },
  {
   "cell_type": "code",
   "execution_count": null,
   "metadata": {},
   "outputs": [],
   "source": [
    "# Split a path into parent dir and the rest.\n",
    "components = os.path.split(os.getcwd())\n",
    "components"
   ]
  },
  {
   "cell_type": "code",
   "execution_count": null,
   "metadata": {},
   "outputs": [],
   "source": [
    "# Join elements into a path\n",
    "joined = os.path.join(*components)\n",
    "joined"
   ]
  },
  {
   "cell_type": "markdown",
   "metadata": {},
   "source": [
    "#### Exercise:\n",
    "For each file in `./Day3.2/` under the current working directory, print the absolute path to each file."
   ]
  },
  {
   "cell_type": "code",
   "execution_count": null,
   "metadata": {},
   "outputs": [],
   "source": [
    "for f in os.listdir('Day3.2'):\n",
    "    print(\n",
    "        os.path.abspath(\n",
    "            os.path.join(\n",
    "                os.getcwd(),\n",
    "                \"Day3.2\", f\n",
    "            )\n",
    "        )\n",
    "    )"
   ]
  },
  {
   "cell_type": "markdown",
   "metadata": {},
   "source": [
    "### Executing UNIX commands\n",
    "The os module also allows us to execute UNIX commands"
   ]
  },
  {
   "cell_type": "markdown",
   "metadata": {},
   "source": [
    "**popen(command, mode)**: It opens a pipe to or from the command. The return value is an open file object connected to the pipe, which can be read or written depending on whether mode is 'r' (default) or 'w'."
   ]
  },
  {
   "cell_type": "code",
   "execution_count": null,
   "metadata": {},
   "outputs": [],
   "source": [
    "GetIds = os.popen(r'''grep \">\" protein.fasta''').read()"
   ]
  },
  {
   "cell_type": "code",
   "execution_count": null,
   "metadata": {},
   "outputs": [],
   "source": [
    "GetIds"
   ]
  },
  {
   "cell_type": "markdown",
   "metadata": {},
   "source": [
    "```Python\n",
    "os.popen(r'''grep \">\" protein.fasta''').read()\n",
    "```\n",
    "- The 'r' before the command string ensures that entire command is passed raw to the OS.\n",
    "\n",
    "- Do not forget to add **.read()** at the end of the **popen()** method even if you don't need to read the output. It ensures that command gets fully executed, otherwise if the default buffersize is exceeded then the python interpretor will move to the next before the command completes and we would not know anything about it."
   ]
  },
  {
   "cell_type": "code",
   "execution_count": null,
   "metadata": {},
   "outputs": [],
   "source": []
  }
 ],
 "metadata": {
  "kernelspec": {
   "display_name": "Python 3",
   "language": "python",
   "name": "python3"
  },
  "language_info": {
   "codemirror_mode": {
    "name": "ipython",
    "version": 3
   },
   "file_extension": ".py",
   "mimetype": "text/x-python",
   "name": "python",
   "nbconvert_exporter": "python",
   "pygments_lexer": "ipython3",
   "version": "3.8.5"
  }
 },
 "nbformat": 4,
 "nbformat_minor": 4
}
