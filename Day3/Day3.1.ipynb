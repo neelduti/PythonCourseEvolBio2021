{
 "cells": [
  {
   "cell_type": "markdown",
   "metadata": {},
   "source": [
    "## Functions\n",
    "\n",
    "- A function takes values (called arguments or parameters), executes some operation based on them and returns a result. \n",
    "\n",
    "- Python gives you many **built-in functions** like *print()*, *len()* etc. \n",
    "\n",
    "- You can also create your own functions. These functions are called **user-defined functions**."
   ]
  },
  {
   "cell_type": "markdown",
   "metadata": {},
   "source": [
    "<img src=\"Function.png\" alt=\"Drawing\" style=\"width: 400px;\"/>"
   ]
  },
  {
   "cell_type": "markdown",
   "metadata": {},
   "source": [
    "### Why do we need user-defined functions?\n",
    "\n",
    "1. **Reusability**: They allow us to reuse code instead of rewriting it. Once a function is defined, it can be used over and over again. You can invoke the same function many times in your program, which saves you work. You can also reuse functions defined in different python files (\"modules\")."
   ]
  },
  {
   "cell_type": "markdown",
   "metadata": {},
   "source": [
    "<img src=\"Function2.png\" alt=\"Drawing\" style=\"width: 400px;\"/>"
   ]
  },
  {
   "cell_type": "markdown",
   "metadata": {},
   "source": [
    "2. **Readability**: Since each function has a well defined role, which we write within the function while constructing it. It makes our code easier to navigate for others and ourselves."
   ]
  },
  {
   "cell_type": "raw",
   "metadata": {},
   "source": [
    "Start of my code\n",
    "\n",
    "Function1\n",
    "    \"Function1 takes two numbers and adds them\"\n",
    "    add the numebrs\n",
    "    return the sum\n",
    "\n",
    "Function2\n",
    "    \"Function2 takes two numbers and multiplies them\"\n",
    "    multiply the numebrs\n",
    "    return the product\n",
    "\n",
    "Some code blocks....\n",
    "\n",
    "Here I have two numbers and I need their sum, so I call Function1.\n",
    "\n",
    "Here I have two numbers and I need their product, so I call Function2.\n",
    "\n",
    "Some code blocks....\n",
    "\n",
    "Again I have two numbers and I need their sum so, I call Function1.\n",
    "\n",
    "Some code blocks....\n",
    "\n",
    "Again I have two numbers and I need their product, so I call Function2.\n",
    "\n",
    "........."
   ]
  },
  {
   "cell_type": "markdown",
   "metadata": {},
   "source": [
    "### Defining a function\n",
    "\n",
    "We have to first define a function before we can call it."
   ]
  },
  {
   "cell_type": "markdown",
   "metadata": {},
   "source": [
    "```Python\n",
    "def function_name(input_arguments):\n",
    "    'string documenting the function'\n",
    "    \n",
    "    Function_code_block\n",
    "    \n",
    "    return output\n",
    "\n",
    "\n",
    "\n",
    "```\n",
    "\n"
   ]
  },
  {
   "cell_type": "markdown",
   "metadata": {},
   "source": [
    "<img src=\"Function3.png\" alt=\"Drawing\" style=\"width: 900px;\"/>"
   ]
  },
  {
   "cell_type": "markdown",
   "metadata": {},
   "source": [
    "### A function to get initials from given names\n",
    "**Input**: Name seperated by whitespace\n",
    "\n",
    "**Output**: Initials"
   ]
  },
  {
   "cell_type": "code",
   "execution_count": null,
   "metadata": {},
   "outputs": [],
   "source": [
    "def get_initials(names):\n",
    "    \"this function returns initials of the given name\"\n",
    "    names_list = names.split()\n",
    "    initials = ''\n",
    "    for name in names_list:\n",
    "        initials = initials + name[0].upper() + '.'\n",
    "    return initials"
   ]
  },
  {
   "cell_type": "code",
   "execution_count": null,
   "metadata": {},
   "outputs": [],
   "source": [
    "get_initials('Neel Prabh')"
   ]
  },
  {
   "cell_type": "markdown",
   "metadata": {},
   "source": [
    "#### Get information on a function"
   ]
  },
  {
   "cell_type": "code",
   "execution_count": null,
   "metadata": {},
   "outputs": [],
   "source": [
    "help(get_initials)"
   ]
  },
  {
   "cell_type": "code",
   "execution_count": null,
   "metadata": {},
   "outputs": [],
   "source": [
    "# alternative in interactive python environments (spyder, jupyter, ipython, ...)\n",
    "get_initials?"
   ]
  },
  {
   "cell_type": "markdown",
   "metadata": {},
   "source": [
    "#### Exercise:\n",
    "Look up the signature of the `print` builtin function."
   ]
  },
  {
   "cell_type": "markdown",
   "metadata": {},
   "source": [
    "### Scope Of Variable Declaration\n",
    "If you declare a variable inside a function it will only exist in that function."
   ]
  },
  {
   "cell_type": "code",
   "execution_count": null,
   "metadata": {},
   "outputs": [],
   "source": [
    "print(initials)"
   ]
  },
  {
   "cell_type": "markdown",
   "metadata": {},
   "source": [
    "### Boolean Functions\n",
    "\n",
    "- Boolean functions are functions that return a **True** or **False** value. \n",
    "\n",
    "- They can be used in conditionals such as if or while statements whenever a condition is too complex to be written inline."
   ]
  },
  {
   "cell_type": "markdown",
   "metadata": {},
   "source": [
    "#### **Problem**: Write a program to check if the name entered by the user is in correct format or not."
   ]
  },
  {
   "cell_type": "markdown",
   "metadata": {},
   "source": [
    "```Python\n",
    "#!/usr/bin/env python3\n",
    "\n",
    "# define has_correct_format function here\n",
    "\n",
    "first_last_name = input(\"Enter your first and last name seperated by whitespace: \")\n",
    "if(has_correct_format(first_last_name)) :\n",
    "    #passing list arguments based on their index number\n",
    "    print(\"\"\"First name : {0}\n",
    "    Last name : {1}\"\"\".format(*first_last_name.split()))\n",
    "   \n",
    "else :\n",
    "    print('You did not use the correct format. Please try again!')\n",
    "print(\"The program ends here.\")\n",
    "```"
   ]
  },
  {
   "cell_type": "code",
   "execution_count": null,
   "metadata": {},
   "outputs": [],
   "source": [
    "def has_correct_format(first_last_name):\n",
    "    \"\"\"\n",
    "    This function checks if the given name is\n",
    "    in the correct format or not.\n",
    "    \"\"\"\n",
    "    \n",
    "    # Initialize the variable to be returned.\n",
    "    correct_format = False\n",
    "    \n",
    "    # Make a list containing both first and last names by splitting the input.\n",
    "    names_list = first_last_name.split()\n",
    "    \n",
    "    # Check if the list has just two elements, i.e. length of the names_list is 2.\n",
    "    if len(names_list) == 2:\n",
    "        correct_format = True\n",
    "    \n",
    "    return correct_format\n",
    "    "
   ]
  },
  {
   "cell_type": "code",
   "execution_count": null,
   "metadata": {},
   "outputs": [],
   "source": [
    "#!/usr/bin/env python3\n",
    "\n",
    "# has_correct_format function has been defined so now it can be called\n",
    "\n",
    "first_last_name = input(\"Enter your first and last name seperated by whitespace: \")\n",
    "\n",
    "if(has_correct_format(first_last_name)) :\n",
    "    #passing list arguments based on their index number\n",
    "    print(\"\"\"\n",
    "First name : {0}\n",
    "Last name : {1}\n",
    "\"\"\".format(*first_last_name.split()))\n",
    "else :\n",
    "    print('You did not use the correct format. Please try again!')\n",
    "    \n",
    "print(\"The program ends here.\")"
   ]
  },
  {
   "cell_type": "markdown",
   "metadata": {},
   "source": [
    "### Defining Function Default Values\n",
    "\n",
    "Suppose the `has_correct_format()` function also has a seperate argument called `accepted_characters`, which specifies the characters accepted in the name argument."
   ]
  },
  {
   "cell_type": "code",
   "execution_count": null,
   "metadata": {},
   "outputs": [],
   "source": [
    "def has_correct_format(first_last_name, accepted_characters):\n",
    "    \"\"\"\n",
    "    This function checks if the given name is in the correct format or not.\n",
    "    \"\"\"\n",
    "    \n",
    "    # Initialize the variable to be returned.\n",
    "    correct_format = False\n",
    "    \n",
    "    # Make a list containing both first and last names by splitting the input\n",
    "    names_list = first_last_name.split()\n",
    "    \n",
    "    # Check if the list has just two elements, i.e. length of the names_list is 2.\n",
    "    if len(names_list) == 2:\n",
    "        # chech both names\n",
    "        for name in names_list:\n",
    "            #check each character in the name\n",
    "            for char in name:\n",
    "                #if the character is not in the accepted_chracters return\n",
    "                if char not in accepted_characters:\n",
    "                    return correct_format       \n",
    "                \n",
    "        # Only reached if all characters accepted, hence no `else` statement.\n",
    "        correct_format = True\n",
    "        \n",
    "    return correct_format\n"
   ]
  },
  {
   "cell_type": "markdown",
   "metadata": {},
   "source": [
    "#### A function does not execute any more code blocks once it reaches a return statement."
   ]
  },
  {
   "cell_type": "code",
   "execution_count": null,
   "metadata": {},
   "outputs": [],
   "source": [
    "has_correct_format('Neel Prabh', 'ABCDEFGHIJKLMNOPQRSTUVWXYZ')"
   ]
  },
  {
   "cell_type": "code",
   "execution_count": null,
   "metadata": {},
   "outputs": [],
   "source": [
    "has_correct_format('Neel Prabh', 'ABCDEFGHIJKLMNOPQRSTUVWXYZabcdefghijklmnopqrstuvwxyz')"
   ]
  },
  {
   "cell_type": "markdown",
   "metadata": {},
   "source": [
    "#### Hint\n",
    "Look up the documentation of `string.ascii_lowercase`, `string.ascii_uppercase`, `string.ascii_letters`"
   ]
  },
  {
   "cell_type": "markdown",
   "metadata": {},
   "source": [
    "We would like our function to check the letters by default, so that if we call the function without passing the second argument, it assumes that english alphabets are accepted."
   ]
  },
  {
   "cell_type": "code",
   "execution_count": null,
   "metadata": {},
   "outputs": [],
   "source": [
    "def has_correct_format(first_last_name, accepted_characters = string.ascii_letters):\n",
    "    \"\"\"This function checks if the given name is\n",
    "    in the correct format or not.\n",
    "    \"\"\"\n",
    "    correct_format = False\n",
    "    # Make a list containing both first and last names by splitting the input\n",
    "    names_list = first_last_name.split()\n",
    "    # Check if the list has just two elements, i.e. length of the names_list is 2.\n",
    "    if len(names_list) == 2:\n",
    "        # chech both names\n",
    "        for name in names_list:\n",
    "            #check each character in the name\n",
    "            for char in name:\n",
    "                #if the character is not in the accepted_chracters return false\n",
    "                if char not in accepted_characters:\n",
    "                    return correct_format       \n",
    "        correct_format = True\n",
    "    return correct_format\n"
   ]
  },
  {
   "cell_type": "code",
   "execution_count": null,
   "metadata": {},
   "outputs": [],
   "source": [
    "has_correct_format('Neel Prabh')"
   ]
  },
  {
   "cell_type": "markdown",
   "metadata": {},
   "source": [
    "#### Function that checks all names for accepted characters"
   ]
  },
  {
   "cell_type": "code",
   "execution_count": null,
   "metadata": {},
   "outputs": [],
   "source": [
    "def has_correct_format(all_names, accepted_characters = string.ascii_letters):\n",
    "    \"\"\"This function checks if the given name is\n",
    "    in the correct format or not.\n",
    "    \"\"\"\n",
    "    correct_format = False\n",
    "    # Make a list containing both first and last names by splitting the input\n",
    "    names_list = all_names.split()\n",
    "    # Check if the list has at least one name.\n",
    "    if len(names_list) > 0:\n",
    "        # chech each name\n",
    "        for name in names_list:\n",
    "            #check each character in the name\n",
    "            for char in name:\n",
    "                #if the character is not in the accepted_chracters return false\n",
    "                if char not in accepted_characters:\n",
    "                    return correct_format       \n",
    "        correct_format = True\n",
    "    return correct_format\n"
   ]
  },
  {
   "cell_type": "code",
   "execution_count": null,
   "metadata": {},
   "outputs": [],
   "source": [
    "has_correct_format('Stadt Plön')"
   ]
  },
  {
   "cell_type": "markdown",
   "metadata": {},
   "source": [
    "#### Passing argument by postion"
   ]
  },
  {
   "cell_type": "code",
   "execution_count": null,
   "metadata": {},
   "outputs": [],
   "source": [
    "has_correct_format('Stadt Plön', 'äöüÄÖÜß'+string.ascii_letters)"
   ]
  },
  {
   "cell_type": "markdown",
   "metadata": {},
   "source": [
    "#### Passing argument by name"
   ]
  },
  {
   "cell_type": "code",
   "execution_count": null,
   "metadata": {},
   "outputs": [],
   "source": [
    "has_correct_format(accepted_characters = 'äöüÄÖÜßABCDEFGHIJKLMNOPQRSTUVWXYZabcdefghijklmnopqrstuvbwxyz', all_names = 'Stadt Plön')"
   ]
  },
  {
   "cell_type": "markdown",
   "metadata": {},
   "source": [
    "We can mix either style, but named argument must always be after the positioned arguments."
   ]
  },
  {
   "cell_type": "code",
   "execution_count": null,
   "metadata": {},
   "outputs": [],
   "source": [
    "has_correct_format('Stadt Plön', accepted_characters = 'äöüÄÖÜßABCDEFGHIJKLMNOPQRSTUVWXYZabcdefghijklmnopqrstuvbwxyz')"
   ]
  },
  {
   "cell_type": "markdown",
   "metadata": {},
   "source": [
    "### Variable number of function arguments\n",
    "It is possible to declare functions with a variable number of arguments."
   ]
  },
  {
   "cell_type": "code",
   "execution_count": 2,
   "metadata": {},
   "outputs": [],
   "source": [
    "def function_with_variable_arguments(first, second, third, *the_rest):\n",
    "            print(f\"First: {first}\")\n",
    "            print(f\"Second: {second}\")\n",
    "            print(f\"Third: {third}\")\n",
    "            print(\"And all the rest... \", the_rest)\n",
    "            \n",
    "            return"
   ]
  },
  {
   "cell_type": "markdown",
   "metadata": {},
   "source": [
    "#### Hint:\n",
    "You will often find function definitions such as\n",
    "```\n",
    "def function_with_variable_number_of_arguments(*args, **kwargs):\n",
    "    \"\"\" Doc here \"\"\"\n",
    "    \n",
    "    <Code here>\n",
    "```\n",
    "\n",
    "This function accepts any number of positional arguments and any number of keyword arguments (aka \"named\" arguments). The function body must then handle all possible alternatives."
   ]
  },
  {
   "cell_type": "code",
   "execution_count": 3,
   "metadata": {},
   "outputs": [
    {
     "name": "stdout",
     "output_type": "stream",
     "text": [
      "First: 2\n",
      "Second: 2\n",
      "Third: 3\n",
      "And all the rest...  (4, 5, 6)\n"
     ]
    }
   ],
   "source": [
    "function_with_variable_arguments(2,2,3,4,5,6)"
   ]
  },
  {
   "cell_type": "markdown",
   "metadata": {},
   "source": [
    "## Modules\n",
    "\n",
    "- Modules in Python are simply Python Files with the .py extension, which contain definitions of functions or variables, usually related to a specific theme.\n",
    "\n",
    "- Grouping related code into a module makes the code easier to understand and use."
   ]
  },
  {
   "cell_type": "markdown",
   "metadata": {},
   "source": [
    "We can put both the functions we wrote to process names in a file. \n",
    "\n",
    "\n",
    "### Exercise\n",
    "Copy the snipped below and paste into a new python file in **spyder**. Save the file as _names_util.py_"
   ]
  },
  {
   "cell_type": "code",
   "execution_count": 4,
   "metadata": {},
   "outputs": [],
   "source": [
    "#!/usr/bin/env python3\n",
    "\"\"\"\n",
    "names_util module contains a few functions for manipulating names\n",
    "\"\"\"\n",
    "\n",
    "def get_initials(names):\n",
    "    \"this function returns initials of the given name\"\n",
    "    \n",
    "    names_list = names.split()\n",
    "    initials = ''\n",
    "    \n",
    "    for name in names_list:\n",
    "        initials = initials + name[0].upper() + '.'\n",
    "        \n",
    "    return initials\n",
    "\n",
    "\n",
    "def has_correct_format(all_names, accepted_characters = 'ABCDEFGHIJKLMNOPQRSTUVWXYZabcdefghijklmnopqrstuvwxyz'):\n",
    "    \"\"\"This function checks if the given name is\n",
    "    in the correct format or not.\n",
    "    \"\"\"\n",
    "    \n",
    "    correct_format = False\n",
    "    \n",
    "    # Make a list containing both first and last names by splitting the input\n",
    "    names_list = all_names.split()\n",
    "    \n",
    "    # Check if the list has at least one name.\n",
    "    if len(names_list) > 0:\n",
    "        # chech each name\n",
    "        for name in names_list:\n",
    "            #check each character in the name\n",
    "            for char in name:\n",
    "                #if the character is not in the accepted_chracters return false\n",
    "                if char not in accepted_characters:\n",
    "                    return correct_format       \n",
    "                \n",
    "        correct_format = True\n",
    "        \n",
    "    return correct_format\n"
   ]
  },
  {
   "cell_type": "markdown",
   "metadata": {},
   "source": [
    "### Terminology:\n",
    "Python files that contain function definitions an/or variable declarations are called _module files_. The _content_ of a module file constitutes the _module_. _Modules_ and the objects that the _module_ defines can be imported and called in other _modules_. A directory that contains python _module_ files **and** the special file _\\__init.py___ (thats double underscors before and after _init_) is called a python _package_."
   ]
  },
  {
   "cell_type": "markdown",
   "metadata": {},
   "source": [
    "### Using Modules\n",
    "Enter the Python interpreter and import _names_util_ as a module with the following command:"
   ]
  },
  {
   "cell_type": "code",
   "execution_count": null,
   "metadata": {},
   "outputs": [],
   "source": [
    "import names_util"
   ]
  },
  {
   "cell_type": "markdown",
   "metadata": {},
   "source": [
    "If you didn’t put your dnautil.py File in your current directory, you might get an error:"
   ]
  },
  {
   "cell_type": "markdown",
   "metadata": {},
   "source": [
    "```Python\n",
    "Traceback (most recent call last):\n",
    "  File \"<stdin>\", line 1, in <module>\n",
    "ModuleNotFoundError: No module named 'names_util'\n",
    "```"
   ]
  },
  {
   "cell_type": "markdown",
   "metadata": {},
   "source": [
    "### Where Are The Modules?\n",
    "When a module is imported, Python first searches for a built- in module with that name.\n",
    "\n",
    "If a built-in module is not found, Python then searches for a file obtained by adding the extension .py to the name of the module that it’s imported:\n",
    "- in your current working directory,\n",
    "- the directory where Python has been installed,\n",
    "- in a path, i.e. a colon (':') separated list of File paths, stored in the environment variable PYTHONPATH."
   ]
  },
  {
   "cell_type": "markdown",
   "metadata": {},
   "source": [
    "#### sys.path Variable\n",
    "\n",
    "You can use the sys.path variable from the sys built-in module to check the list of all directories where Python looks for files."
   ]
  },
  {
   "cell_type": "code",
   "execution_count": null,
   "metadata": {},
   "outputs": [],
   "source": [
    "import sys\n",
    "sys.path"
   ]
  },
  {
   "cell_type": "markdown",
   "metadata": {},
   "source": [
    "#### Extending The Search Path\n",
    "If the sys.path variable doesn’t contain the directory where you put your module you can extend it."
   ]
  },
  {
   "cell_type": "markdown",
   "metadata": {},
   "source": [
    "```Python\n",
    "sys.path.append(\"directory_that_has_the_module\")\n",
    "```"
   ]
  },
  {
   "cell_type": "code",
   "execution_count": null,
   "metadata": {},
   "outputs": [],
   "source": [
    "import names_util\n",
    "name = 'Bilal Haider'\n",
    "names_util.get_initials(name)"
   ]
  },
  {
   "cell_type": "markdown",
   "metadata": {},
   "source": [
    "We either have to use the module name to access its functions, or we can import just the required function and while importing it we can also temporarily assign the function a new name."
   ]
  },
  {
   "cell_type": "code",
   "execution_count": null,
   "metadata": {},
   "outputs": [],
   "source": [
    "from names_util import get_initials as initials"
   ]
  },
  {
   "cell_type": "code",
   "execution_count": null,
   "metadata": {},
   "outputs": [],
   "source": [
    "initials(name)"
   ]
  },
  {
   "cell_type": "markdown",
   "metadata": {},
   "source": [
    "We can import multiple modules at the same time."
   ]
  },
  {
   "cell_type": "code",
   "execution_count": 2,
   "metadata": {},
   "outputs": [],
   "source": [
    "from names_util import get_initials, has_correct_format"
   ]
  },
  {
   "cell_type": "markdown",
   "metadata": {},
   "source": [
    "## Packages\n",
    "\n",
    "- Packages group multiple modules under one name, by using “dotted module names”. For example, the module name A.B designates a submodule named B in a package named A.\n",
    "- Each package in Python is a directory which **MUST** contain a special file called  **\\_\\_init\\_\\_.py**. This file can be empty, and it indicates that the directory containg it is a Python package, so it can be imported the same way a module can be imported."
   ]
  },
  {
   "cell_type": "markdown",
   "metadata": {},
   "source": [
    "### Example\n",
    "Suppose we have several modules:\n",
    "- a _names_util.py_ file containing useful functions to names.\n",
    "- an _address_util.py_ file containing useful functions to process addresses.\n",
    "- a _number_util.py_ file containing useful functions to process numbers (e.g. zip codes).\n",
    "\n",
    "and we want to group them in a package called `userinfo` which processes all types of contact information.\n",
    "\n",
    "The structure for our package will be:\n",
    "```Python\n",
    "userinfo/\n",
    "    __init__.py\n",
    "    names_util.py\n",
    "    address_util.py\n",
    "    number_util.py\n",
    "```\n",
    "\n",
    "We can have other packages inside our package:\n",
    "```Python\n",
    "userinfo/\n",
    "    __init__.py\n",
    "    names_util.py\n",
    "    address_util.py\n",
    "    number_util.py\n",
    "    areacode/\n",
    "        __init__.py\n",
    "        users_in_area.py\n",
    "```\n"
   ]
  },
  {
   "cell_type": "markdown",
   "metadata": {},
   "source": [
    "### Loading from packages\n",
    "We can import modules from the `userinfo` package in following two ways:\n",
    "\n",
    "1. ```Python \n",
    "import userinfo.names_util\n",
    "```\n",
    "2. ```Python\n",
    "from userinfo import names_util\n",
    "```\n",
    "\n",
    "#### We can also import a specfic function from a submodule in a sub package:\n",
    "```Python \n",
    "from userinfo.areacode.users_in_area import get_users_with_initials\n",
    "```"
   ]
  },
  {
   "cell_type": "markdown",
   "metadata": {},
   "source": [
    "## Appendix A: Docstrings\n",
    "Strings immediately following a function definition are called \"Docstrings\". We have seen above that docstrings are extremely helpful to document\n",
    "the purpose of the function (or module or class ...). The `help()` function parses the docstring and assembles a help message on the object in question.\n",
    "Special utilities can produce a reference manual document from all the docstrings of a module, a package, or the entire project.\n",
    "\n",
    "For functions, it is good practise to provide more structured information beyond the single line description, such that a user can immediatly find out how to use the function in her code. At least, you want to \n",
    "* list the positional and named function arguments, their type(s), permitted values, and defaults.\n",
    "* Define what the function returns and the return type.\n",
    "\n",
    "Optionally, you may also want to \n",
    "* list the conditions under which the function raises an exception.\n",
    "* provide one or several usage examples."
   ]
  },
  {
   "cell_type": "markdown",
   "metadata": {},
   "source": [
    "### Example:\n",
    "In the following example, we rewrite the `names_util` module:"
   ]
  },
  {
   "cell_type": "code",
   "execution_count": 5,
   "metadata": {},
   "outputs": [],
   "source": [
    "#!/usr/bin/env python3\n",
    "\"\"\"\n",
    "names_util module contains a few functions for manipulating names\n",
    "\"\"\"\n",
    "\n",
    "\n",
    "def get_initials(names):\n",
    "    \"\"\"\n",
    "    \n",
    "    This function returns initials of the given name\n",
    "    \n",
    "    :param names: The names for which to return the initials.\n",
    "    :type  names: str\n",
    "    \n",
    "    :return initials: The dotted first letter of each part of the name.\n",
    "    :rtype initials: str\n",
    "    \n",
    "    \"\"\"\n",
    "    names_list = names.split()\n",
    "    initials = ''\n",
    "    for name in names_list:\n",
    "        initials = initials + name[0].upper() + '.'\n",
    "    return initials\n",
    "\n",
    "\n",
    "def has_correct_format(name, accepted_characters = 'ABCDEFGHIJKLMNOPQRSTUVWXYZabcdefghijklmnopqrstuvwxyz'):\n",
    "    \"\"\"\n",
    "    \n",
    "    This function checks if the given name is in the correct format or not.\n",
    "    \n",
    "    :param name: The name to be tested\n",
    "    :type  name: str\n",
    "    \n",
    "    :param accepted_characters: All characters that may appear in the name to pass the test. Default: 'ABCDEFGHIJKLMNOPQRSTUVWXYZabcdefghijklmnopqrstuvwxyz'\n",
    "    :type  accepted_characters: str\n",
    "    \n",
    "    :return: Boolean that indicates whether all characters in `name` are in `accepted_characters`.\n",
    "    :rtype: bool\n",
    "    \n",
    "    :raises TypeError: `name` or `accepted_characters` are not of type `str`.\n",
    "    :raises ValueError: `name` is the empty str ''.\n",
    "    \n",
    "    \"\"\"\n",
    "    \n",
    "    correct_format = False\n",
    "    \n",
    "    # Check type\n",
    "    if not isinstance(name, str):\n",
    "        raise TypeError(\"`name` ({}) is of the wrong type. Expected str, found {}\".format(name, type(name)))\n",
    "    if not isinstance(accepted_characters, str):\n",
    "        raise TypeError(\"`accepted_characters` ({}) is of the wrong type. Expected str, found {}\".format(accepted_characters, type(accepted_characters)))\n",
    "        \n",
    "    # Check for empty str.\n",
    "    if name=='':\n",
    "        raise ValueError(\"`name` must not be an empty string.\")\n",
    "        \n",
    "    # Make a list containing both first and last names by splitting the input\n",
    "    names_list = name.split()\n",
    "    # Check if the list has at least one name.\n",
    "    if len(names_list) > 0:\n",
    "        # chech each name\n",
    "        for name in names_list:\n",
    "            #check each character in the name\n",
    "            for char in name:\n",
    "                #if the character is not in the accepted_chracters return false\n",
    "                if char not in accepted_characters:\n",
    "                    return correct_format       \n",
    "        correct_format = True\n",
    "        \n",
    "    return correct_format"
   ]
  },
  {
   "cell_type": "markdown",
   "metadata": {},
   "source": [
    "As before, you can use the `help()` function to print the docstring to screen. "
   ]
  },
  {
   "cell_type": "code",
   "execution_count": null,
   "metadata": {},
   "outputs": [],
   "source": [
    "help(has_correct_format)"
   ]
  },
  {
   "cell_type": "markdown",
   "metadata": {},
   "source": [
    "In interactive python sessions (jupyter, spyder, ipython), you can also use the `?` operator:"
   ]
  },
  {
   "cell_type": "code",
   "execution_count": null,
   "metadata": {},
   "outputs": [],
   "source": [
    "has_correct_format?"
   ]
  },
  {
   "attachments": {
    "4e5f831b-edda-4d88-9db1-713bb08637d8.png": {
     "image/png": "[encoded data removed]"
    },
    "d3e8f8c1-2d80-4d7a-8d9a-170d1baf6088.png": {
     "image/png": "[encoded data removed]"
    }
   },
   "cell_type": "markdown",
   "metadata": {},
   "source": [
    "A docstring parser like [sphinx](https://www.sphinx-doc.org/) can generate a reference manual from the docstring. Here is an example from a python package developed at MPI Evolbio:\n",
    "\n",
    "Code:  \n",
    "![Screenshot_2021-02-03_14-12-13.png](attachment:4e5f831b-edda-4d88-9db1-713bb08637d8.png)\n",
    "\n",
    "Reference Manual:  \n",
    "![Screenshot_2021-02-03_14-14-28.png](attachment:d3e8f8c1-2d80-4d7a-8d9a-170d1baf6088.png)"
   ]
  },
  {
   "cell_type": "markdown",
   "metadata": {},
   "source": [
    "## Appendix B: Testing\n",
    "Testing is by far the most important aspect of software development. Period!"
   ]
  },
  {
   "cell_type": "markdown",
   "metadata": {},
   "source": [
    "When you write code, you should always test that the code does what it is supposed to do. Moreover, you should also test that the\n",
    "code does **not** what it is **not** supposed to do, that is, it behaves in a defined and predictable way when used under conditions it was not meant for."
   ]
  },
  {
   "cell_type": "markdown",
   "metadata": {},
   "source": [
    "Testing a function in python is particularly easy. Let's pick up our `names_util` module from above and add tests to it:"
   ]
  },
  {
   "cell_type": "code",
   "execution_count": null,
   "metadata": {},
   "outputs": [],
   "source": [
    "#!/usr/bin/env python3\n",
    "\"\"\"\n",
    "names_util module contains a few functions for manipulating names\n",
    "\"\"\"\n",
    "\n",
    "\n",
    "def get_initials(names):\n",
    "    \"\"\"\n",
    "    \n",
    "    This function returns initials of the given name\n",
    "    \n",
    "    :param names: The names for which to return the initials.\n",
    "    :type  names: str\n",
    "    \n",
    "    :return initials: The dotted first letter of each part of the name.\n",
    "    :rtype initials: str\n",
    "    \n",
    "    \"\"\"\n",
    "    names_list = names.split()\n",
    "    initials = ''\n",
    "    for name in names_list:\n",
    "        initials = initials + name[0].upper() + '.'\n",
    "    return initials\n",
    "\n",
    "\n",
    "def has_correct_format(name, accepted_characters = 'ABCDEFGHIJKLMNOPQRSTUVWXYZabcdefghijklmnopqrstuvwxyz'):\n",
    "    \"\"\"\n",
    "    \n",
    "    This function checks if the given name is in the correct format or not.\n",
    "    \n",
    "    :param name: The name to be tested\n",
    "    :type  name: str\n",
    "    \n",
    "    :param accepted_characters: All characters that may appear in the name to pass the test. Default: 'ABCDEFGHIJKLMNOPQRSTUVWXYZabcdefghijklmnopqrstuvwxyz'\n",
    "    :type  accepted_characters: str\n",
    "    \n",
    "    :return: Boolean that indicates whether all characters in `name` are in `accepted_characters`.\n",
    "    :rtype: bool\n",
    "    \n",
    "    :raises TypeError: `name` or `accepted_characters` are not of type `str`.\n",
    "    :raises ValueError: `name` is the empty str ''.\n",
    "    \n",
    "    \"\"\"\n",
    "    \n",
    "    correct_format = False\n",
    "    \n",
    "    # Check type\n",
    "    if not isinstance(name, str):\n",
    "        raise TypeError(\"`name` ({}) is of the wrong type. Expected str, found {}\".format(name, type(name)))\n",
    "    if not isinstance(accepted_characters, str):\n",
    "        raise TypeError(\"`accepted_characters` ({}) is of the wrong type. Expected str, found {}\".format(accepted_characters, type(accepted_characters)))\n",
    "        \n",
    "    # Check for empty str.\n",
    "    if name=='':\n",
    "        raise ValueError(\"`name` must not be an empty string.\")\n",
    "        \n",
    "    # Make a list containing both first and last names by splitting the input\n",
    "    names_list = name.split()\n",
    "    # Check if the list has at least one name.\n",
    "    if len(names_list) > 0:\n",
    "        # chech each name\n",
    "        for name in names_list:\n",
    "            #check each character in the name\n",
    "            for char in name:\n",
    "                #if the character is not in the accepted_chracters return false\n",
    "                if char not in accepted_characters:\n",
    "                    return correct_format       \n",
    "        correct_format = True\n",
    "        \n",
    "    return correct_format\n",
    "\n",
    "# Test `get_initials()`\n",
    "assert get_initials(\"Carsten Fortmann-Grote\") == \"C.F.\"\n",
    "assert get_initials(\"First Middle Last\") == \"F.M.L.\"\n",
    "\n",
    "# Test `has_correct_format()`\n",
    "assert has_correct_format(\"Carsten\")\n",
    "assert not has_correct_format(\"Plön\")"
   ]
  },
  {
   "cell_type": "markdown",
   "metadata": {},
   "source": [
    "The `assert` statement simply check the condition that follows them. If the condition evaluates to `True`, the next line is evaluated. If the condition\n",
    "evaluates to `False`, the `assert` statement would raise an exception:"
   ]
  },
  {
   "cell_type": "code",
   "execution_count": null,
   "metadata": {},
   "outputs": [],
   "source": [
    "assert has_correct_format('Plön')"
   ]
  },
  {
   "cell_type": "markdown",
   "metadata": {},
   "source": [
    "In the real world, you would collect all tests in a special test module and run the tests each time you make a change to the code. \n",
    "\n",
    "Professional software developers take testing to the extreme: Before writing a single line of code to implement a function, they write a test _suite_ to test every single requirement for the function to be implemented. Only after completing the test suite they then implement the function itself until all tests go through without errors or failures. "
   ]
  },
  {
   "cell_type": "markdown",
   "metadata": {},
   "source": [
    "## References\n",
    "\n",
    "* [Python for Bioinformatics](https://www.routledge.com/Python-for-Bioinformatics/Bassi/p/book/9781138035263)"
   ]
  }
 ],
 "metadata": {
  "kernelspec": {
   "display_name": "Python 3",
   "language": "python",
   "name": "python3"
  },
  "language_info": {
   "codemirror_mode": {
    "name": "ipython",
    "version": 3
   },
   "file_extension": ".py",
   "mimetype": "text/x-python",
   "name": "python",
   "nbconvert_exporter": "python",
   "pygments_lexer": "ipython3",
   "version": "3.8.5"
  }
 },
 "nbformat": 4,
 "nbformat_minor": 4
}
