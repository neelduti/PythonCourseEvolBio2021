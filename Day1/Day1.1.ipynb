{
 "cells": [
  {
   "cell_type": "markdown",
   "metadata": {},
   "source": [
    "# Introduction"
   ]
  },
  {
   "cell_type": "markdown",
   "metadata": {},
   "source": [
    "## Program"
   ]
  },
  {
   "cell_type": "markdown",
   "metadata": {},
   "source": [
    "<img src=\"Program.png\" alt=\"Drawing\" style=\"width: 600px;\"/>"
   ]
  },
  {
   "cell_type": "markdown",
   "metadata": {},
   "source": [
    "Every time we plan to meet with our friends, **we are making a program**. \n",
    "\n",
    "Every time you write a protocol in your lab notebook, **you are writing a program.**"
   ]
  },
  {
   "cell_type": "markdown",
   "metadata": {},
   "source": [
    "What entails protocol writing?\n",
    "\n",
    "\n",
    "It involves writing **a complete set of instructions, to be executed in a particular order**, to reach a predetermined endpoint from a given starting point **or to solve a problem**.\n",
    "\n",
    "In computational jargon, this is called an **algorithm**. "
   ]
  },
  {
   "cell_type": "markdown",
   "metadata": {},
   "source": [
    "## Algorithm"
   ]
  },
  {
   "cell_type": "markdown",
   "metadata": {},
   "source": [
    "Generally, a **computer program contains more than one algorithm**. \n",
    "\n",
    "While an algorithm describes the steps to solve a problem, a computer program is written in a particular programing language to execute these steps on a machine. \n",
    "\n",
    "However, unlike algorithms that always focus on solving a problem, **we can call any written code a computer program if it runs on a computer and terminates**.\n"
   ]
  },
  {
   "cell_type": "markdown",
   "metadata": {},
   "source": [
    "Also, no matter how good the idea is, its **execution is of paramount importance**.  \n",
    "\n",
    "For example, a democratic process that selects the most suitable representative is a beautiful idea, sometimes resulting in"
   ]
  },
  {
   "cell_type": "markdown",
   "metadata": {},
   "source": [
    "\n",
    "<img src=\"Fauci.png\" alt=\"Drawing\" style=\"width: 600px;\"/>\n"
   ]
  },
  {
   "cell_type": "markdown",
   "metadata": {},
   "source": [
    "#### Thus, constructing executable algorithms is essential for programming."
   ]
  },
  {
   "cell_type": "markdown",
   "metadata": {},
   "source": [
    "## Python"
   ]
  },
  {
   "cell_type": "markdown",
   "metadata": {},
   "source": [
    "Python is a human-readable, multiparadigm, extensible, and open-source programming language with built-in features, high-level data structures, and a cornucopia of third-party modules. \n",
    "\n",
    "It is an interpreted language that is easily accessible across various platforms. \n",
    "\n",
    "**It also has a thriving online community**.\n",
    "\n",
    "For now, only the last point holds relevance, because it means that you are unlikely to come across a problem in Python uses that will not be solved by a proper invocation of god \"Google\". \n",
    "\n",
    "#### Python is a powerful programming language, which is relatively easy to learn.\n",
    "\n",
    "We will learn Python3, which is the most recent version of Python and backward incompatible.\n"
   ]
  },
  {
   "cell_type": "markdown",
   "metadata": {},
   "source": [
    "## Plan"
   ]
  },
  {
   "cell_type": "markdown",
   "metadata": {},
   "source": [
    "The primary goal of this course is **to give you an overview of Python and enable self-learning**. \n",
    "\n",
    "Once you have a skeletal knowledge of the language and start implementing it for your needs, you will also identify areas for further improvements, which will vary from person to person.\n",
    "\n",
    "Like any spoken language it is also true for Python, **you lose it if you don't use it**."
   ]
  },
  {
   "cell_type": "markdown",
   "metadata": {},
   "source": [
    "# Modes of Python"
   ]
  },
  {
   "cell_type": "markdown",
   "metadata": {},
   "source": [
    "## Interactive mode"
   ]
  },
  {
   "cell_type": "markdown",
   "metadata": {},
   "source": [
    "<img src=\"Python_Interpretor.png\" alt=\"Drawing\" style=\"width: 900px;\"/>"
   ]
  },
  {
   "cell_type": "markdown",
   "metadata": {},
   "source": [
    "### >>>\n",
    "This is the python prompt for the interactive mode."
   ]
  },
  {
   "cell_type": "markdown",
   "metadata": {},
   "source": [
    "### IO (Input/Output)"
   ]
  },
  {
   "cell_type": "markdown",
   "metadata": {},
   "source": [
    "#### **Output: Print**"
   ]
  },
  {
   "cell_type": "code",
   "execution_count": 8,
   "metadata": {},
   "outputs": [
    {
     "name": "stdout",
     "output_type": "stream",
     "text": [
      "Hello World!\n"
     ]
    }
   ],
   "source": [
    "print(\"Hello World!\")"
   ]
  },
  {
   "cell_type": "markdown",
   "metadata": {},
   "source": [
    "If we want to print anything on the Python screen, we use the function **print()**.\n",
    "\n",
    "**Function**: A piece of code that can be called (again and again), to perform a specific task.\n",
    "\n",
    "The parenthesis **()** after the print statement holds significance. Whatever value we want to be printed using the print function is passed to the function within the parenthesis. In this way, a function can receive one or more values, which are called parameters.\n",
    "\n",
    "Here the name of the function is **print** and a string **\"Hello World!\"** is being passed to it as a parameter.\n",
    "\n",
    "Later we will revisit functions and strings in detail."
   ]
  },
  {
   "cell_type": "markdown",
   "metadata": {},
   "source": [
    "By default, all string separated with whitespace are printed, but we can change the separator with a parameter named **sep**:"
   ]
  },
  {
   "cell_type": "code",
   "execution_count": 11,
   "metadata": {},
   "outputs": [
    {
     "name": "stdout",
     "output_type": "stream",
     "text": [
      "Hello;World!\n"
     ]
    }
   ],
   "source": [
    " print('Hello', \"World!\", sep=';')"
   ]
  },
  {
   "cell_type": "markdown",
   "metadata": {},
   "source": [
    "Another parameter **end**, changes the end of the output."
   ]
  },
  {
   "cell_type": "code",
   "execution_count": 12,
   "metadata": {},
   "outputs": [
    {
     "name": "stdout",
     "output_type": "stream",
     "text": [
      "Hello;World!\n",
      "******************"
     ]
    }
   ],
   "source": [
    "print('Hello', \"World!\", sep=';', end='\\n******************')"
   ]
  },
  {
   "cell_type": "markdown",
   "metadata": {},
   "source": [
    "Note that while passing strings as parameters we can use **either single or double quotes but never mix them**."
   ]
  },
  {
   "cell_type": "code",
   "execution_count": 13,
   "metadata": {},
   "outputs": [
    {
     "ename": "SyntaxError",
     "evalue": "EOL while scanning string literal (<ipython-input-13-90700430ebea>, line 1)",
     "output_type": "error",
     "traceback": [
      "\u001b[0;36m  File \u001b[0;32m\"<ipython-input-13-90700430ebea>\"\u001b[0;36m, line \u001b[0;32m1\u001b[0m\n\u001b[0;31m    print(\"Hello World!')\u001b[0m\n\u001b[0m                         ^\u001b[0m\n\u001b[0;31mSyntaxError\u001b[0m\u001b[0;31m:\u001b[0m EOL while scanning string literal\n"
     ]
    }
   ],
   "source": [
    "print(\"Hello World!')"
   ]
  },
  {
   "cell_type": "markdown",
   "metadata": {},
   "source": [
    "#### **Input: input**"
   ]
  },
  {
   "cell_type": "markdown",
   "metadata": {},
   "source": [
    "To present some input to a running program, we can use **input()**."
   ]
  },
  {
   "cell_type": "code",
   "execution_count": 32,
   "metadata": {},
   "outputs": [
    {
     "name": "stdin",
     "output_type": "stream",
     "text": [
      "Enter your name:  Bilal\n"
     ]
    }
   ],
   "source": [
    "name = input(\"Enter your name: \")"
   ]
  },
  {
   "cell_type": "code",
   "execution_count": 33,
   "metadata": {},
   "outputs": [
    {
     "data": {
      "text/plain": [
       "'Bilal'"
      ]
     },
     "execution_count": 33,
     "metadata": {},
     "output_type": "execute_result"
    }
   ],
   "source": [
    "name"
   ]
  },
  {
   "cell_type": "markdown",
   "metadata": {},
   "source": [
    "The above command takes a string of data from the user and passes it to a variable called name. When we call this variable, it displays our input.\n",
    "\n",
    "Since there are better ways to enter data, which we will discuss in detail, the input function is rarely used."
   ]
  },
  {
   "cell_type": "markdown",
   "metadata": {},
   "source": [
    "| Term | Definition |\n",
    "| --- | --- |\n",
    "| Arguments | Values that are sent to a program at the time it is run\n",
    "| Code | A program or line of a program.\n",
    "| Function | A subprogram that can be called repeatedly to perform the same task within a program\n",
    "| Parameters | Values that are sent to a function when it is called\n",
    "| Return | The act of sending back a value\n",
    "| Run or Execute | To execute the sequence of command in a program\n",
    "| Statement | A line of a program, which can assign a value, do a comparision, or perform other operations."
   ]
  },
  {
   "cell_type": "markdown",
   "metadata": {},
   "source": [
    "### Calculator"
   ]
  },
  {
   "cell_type": "code",
   "execution_count": 16,
   "metadata": {},
   "outputs": [
    {
     "data": {
      "text/plain": [
       "10"
      ]
     },
     "execution_count": 16,
     "metadata": {},
     "output_type": "execute_result"
    }
   ],
   "source": [
    "5 + 5"
   ]
  },
  {
   "cell_type": "code",
   "execution_count": 17,
   "metadata": {},
   "outputs": [
    {
     "data": {
      "text/plain": [
       "4.5"
      ]
     },
     "execution_count": 17,
     "metadata": {},
     "output_type": "execute_result"
    }
   ],
   "source": [
    "10.5-2*3"
   ]
  },
  {
   "cell_type": "markdown",
   "metadata": {},
   "source": [
    "__**__ for powers"
   ]
  },
  {
   "cell_type": "code",
   "execution_count": 18,
   "metadata": {},
   "outputs": [
    {
     "data": {
      "text/plain": [
       "100"
      ]
     },
     "execution_count": 18,
     "metadata": {},
     "output_type": "execute_result"
    }
   ],
   "source": [
    "10**2"
   ]
  },
  {
   "cell_type": "markdown",
   "metadata": {},
   "source": [
    "__//__ for floor divisions discarding the fractional part"
   ]
  },
  {
   "cell_type": "code",
   "execution_count": 22,
   "metadata": {},
   "outputs": [
    {
     "data": {
      "text/plain": [
       "5.0"
      ]
     },
     "execution_count": 22,
     "metadata": {},
     "output_type": "execute_result"
    }
   ],
   "source": [
    "17.0 //3"
   ]
  },
  {
   "cell_type": "markdown",
   "metadata": {},
   "source": [
    "__%__ for returnig the remainder after division"
   ]
  },
  {
   "cell_type": "code",
   "execution_count": 23,
   "metadata": {},
   "outputs": [
    {
     "data": {
      "text/plain": [
       "2"
      ]
     },
     "execution_count": 23,
     "metadata": {},
     "output_type": "execute_result"
    }
   ],
   "source": [
    "17 % 3"
   ]
  },
  {
   "cell_type": "markdown",
   "metadata": {},
   "source": [
    "__PEMDAS__ (Parenthesis, Exponentiation, Multiplication and Division, Addition and Subtraction)"
   ]
  },
  {
   "cell_type": "code",
   "execution_count": null,
   "metadata": {},
   "outputs": [],
   "source": [
    "5 * 3 + 2"
   ]
  },
  {
   "cell_type": "markdown",
   "metadata": {},
   "source": [
    "__String concatenation__"
   ]
  },
  {
   "cell_type": "code",
   "execution_count": 24,
   "metadata": {},
   "outputs": [
    {
     "data": {
      "text/plain": [
       "'Hello World!'"
      ]
     },
     "execution_count": 24,
     "metadata": {},
     "output_type": "execute_result"
    }
   ],
   "source": [
    "\"Hello \" + 'World!'"
   ]
  },
  {
   "cell_type": "markdown",
   "metadata": {},
   "source": [
    "Elements of different kind can not be added."
   ]
  },
  {
   "cell_type": "code",
   "execution_count": 25,
   "metadata": {},
   "outputs": [
    {
     "ename": "TypeError",
     "evalue": "can only concatenate str (not \"int\") to str",
     "output_type": "error",
     "traceback": [
      "\u001b[0;31m---------------------------------------------------------------------------\u001b[0m",
      "\u001b[0;31mTypeError\u001b[0m                                 Traceback (most recent call last)",
      "\u001b[0;32m<ipython-input-25-65eafbc85a43>\u001b[0m in \u001b[0;36m<module>\u001b[0;34m\u001b[0m\n\u001b[0;32m----> 1\u001b[0;31m \u001b[0;34m\"Hello \"\u001b[0m \u001b[0;34m+\u001b[0m \u001b[0;36m4\u001b[0m\u001b[0;34m\u001b[0m\u001b[0;34m\u001b[0m\u001b[0m\n\u001b[0m",
      "\u001b[0;31mTypeError\u001b[0m: can only concatenate str (not \"int\") to str"
     ]
    }
   ],
   "source": [
    "\"Hello \" + 4"
   ]
  },
  {
   "cell_type": "markdown",
   "metadata": {},
   "source": [
    "__str()__ function converts integers into strings"
   ]
  },
  {
   "cell_type": "code",
   "execution_count": 27,
   "metadata": {},
   "outputs": [
    {
     "data": {
      "text/plain": [
       "'Hello 4'"
      ]
     },
     "execution_count": 27,
     "metadata": {},
     "output_type": "execute_result"
    }
   ],
   "source": [
    "\"Hello \" + str(4)"
   ]
  },
  {
   "cell_type": "code",
   "execution_count": 28,
   "metadata": {},
   "outputs": [
    {
     "ename": "TypeError",
     "evalue": "can only concatenate str (not \"int\") to str",
     "output_type": "error",
     "traceback": [
      "\u001b[0;31m---------------------------------------------------------------------------\u001b[0m",
      "\u001b[0;31mTypeError\u001b[0m                                 Traceback (most recent call last)",
      "\u001b[0;32m<ipython-input-28-28186fbed058>\u001b[0m in \u001b[0;36m<module>\u001b[0;34m\u001b[0m\n\u001b[0;32m----> 1\u001b[0;31m \u001b[0;34m'4'\u001b[0m \u001b[0;34m+\u001b[0m \u001b[0;36m4\u001b[0m\u001b[0;34m\u001b[0m\u001b[0;34m\u001b[0m\u001b[0m\n\u001b[0m",
      "\u001b[0;31mTypeError\u001b[0m: can only concatenate str (not \"int\") to str"
     ]
    }
   ],
   "source": [
    "'4' + 4"
   ]
  },
  {
   "cell_type": "markdown",
   "metadata": {},
   "source": [
    "__int()__ function converts numerical strings to integers"
   ]
  },
  {
   "cell_type": "code",
   "execution_count": 31,
   "metadata": {},
   "outputs": [
    {
     "data": {
      "text/plain": [
       "8"
      ]
     },
     "execution_count": 31,
     "metadata": {},
     "output_type": "execute_result"
    }
   ],
   "source": [
    "int('4') + 4"
   ]
  },
  {
   "cell_type": "markdown",
   "metadata": {},
   "source": [
    "__Name assignment:__\n",
    "We can assign names to Python elements, and refer to them later:"
   ]
  },
  {
   "cell_type": "code",
   "execution_count": 34,
   "metadata": {},
   "outputs": [],
   "source": [
    "No = 97"
   ]
  },
  {
   "cell_type": "code",
   "execution_count": 36,
   "metadata": {},
   "outputs": [
    {
     "data": {
      "text/plain": [
       "'The highest two digits prime is 97'"
      ]
     },
     "execution_count": 36,
     "metadata": {},
     "output_type": "execute_result"
    }
   ],
   "source": [
    "'The highest two digits prime is ' + str(No)"
   ]
  },
  {
   "cell_type": "markdown",
   "metadata": {},
   "source": [
    "The same can be done with **[string formatting operations](https://www.python.org/dev/peps/pep-3101/)**."
   ]
  },
  {
   "cell_type": "code",
   "execution_count": 37,
   "metadata": {},
   "outputs": [
    {
     "data": {
      "text/plain": [
       "'The highest two digits prime is 97'"
      ]
     },
     "execution_count": 37,
     "metadata": {},
     "output_type": "execute_result"
    }
   ],
   "source": [
    "'The highest two digits prime is {}'.format(No)"
   ]
  },
  {
   "cell_type": "markdown",
   "metadata": {},
   "source": [
    "**Names can contain only letters, numbers, and underscores (\\_), but they cannot start with numbers**. \n",
    "\n",
    "In other languages names are called **variables**."
   ]
  },
  {
   "cell_type": "code",
   "execution_count": 38,
   "metadata": {},
   "outputs": [
    {
     "data": {
      "text/plain": [
       "45"
      ]
     },
     "execution_count": 38,
     "metadata": {},
     "output_type": "execute_result"
    }
   ],
   "source": [
    "No = 45\n",
    "No"
   ]
  },
  {
   "cell_type": "markdown",
   "metadata": {},
   "source": [
    "### Exit"
   ]
  },
  {
   "cell_type": "markdown",
   "metadata": {},
   "source": [
    "To exit from the Python shell:"
   ]
  },
  {
   "cell_type": "markdown",
   "metadata": {},
   "source": [
    "| System | Command |\n",
    "| --- | --- |\n",
    "| MacOS or Linux: | CRTL-D (Press Control and D simultaneously)\n",
    "| Windows: | Press CTRL-Z and Enter\n",
    "| All systems: | Use the exit() function"
   ]
  },
  {
   "cell_type": "markdown",
   "metadata": {},
   "source": [
    "## Batch Mode"
   ]
  },
  {
   "cell_type": "markdown",
   "metadata": {},
   "source": [
    "All typed codes are lost as soon as the interactive session is closed.\n",
    "\n",
    "Hence, codes are stored in text files.\n",
    "\n",
    "When a program is executed from a text file it is called **batch mode**.\n",
    "\n",
    "The files are regular text files (with .py or .py3 extension) that can be edited in standar text editors.\n",
    "\n",
    "In unix-like systems we have an option to give the python interprator path as the first line of the python file.\n",
    "\n",
    "__#! /usr/bin/python3__\n",
    "\n",
    "or\n",
    "\n",
    "__#! /usr/bin/env python3__\n",
    "\n",
    "Both lines are called a **shebang** line, which allows the operating system to know the interpreter to be used for the program. Otherwise the program is run as a shell script, unless we invoke the Python interpreter explicitly.\n",
    "\n",
    "The env component allows running the script inside a virtual environment."
   ]
  },
  {
   "cell_type": "markdown",
   "metadata": {},
   "source": [
    "Make a file **hello.py** with a single statement"
   ]
  },
  {
   "cell_type": "raw",
   "metadata": {},
   "source": [
    "print(\"Hello World!\")"
   ]
  },
  {
   "cell_type": "markdown",
   "metadata": {},
   "source": [
    "Run the program from terminal:\n",
    "\n",
    "__$ python3 hello.py__ "
   ]
  },
  {
   "cell_type": "markdown",
   "metadata": {},
   "source": [
    "If we run it without calling the python3 interpretor:\n",
    "\n",
    "__$ ./hello.py__\n",
    "\n",
    "we first get: \n",
    "\n",
    "`bash: ./hello.py: Permission denied`\n",
    "\n",
    "Let's give the permission to execute this file:\n",
    "\n",
    "__$ chmod 557 ./hello.py__\n",
    "\n",
    "__$ ./hello.py__\n",
    "\n",
    "now we get:\n",
    "\n",
    "`./hello.py: line 1: syntax error near unexpected token 'Hello World!''`\n",
    "\n",
    "`./hello.py: line 1: print('Hello World!')'`\n",
    "\n"
   ]
  },
  {
   "cell_type": "markdown",
   "metadata": {},
   "source": [
    "Adding a shebang line allows the python file to be executed as a binary file."
   ]
  },
  {
   "cell_type": "markdown",
   "metadata": {},
   "source": [
    "#### In windows, a shebang line is ignored."
   ]
  },
  {
   "cell_type": "markdown",
   "metadata": {},
   "source": [
    "### Comments"
   ]
  },
  {
   "cell_type": "markdown",
   "metadata": {},
   "source": [
    "__#__ symbol has a special signicance.\n",
    "\n",
    "It marks that lines in the program that are not excuted, and hence these lines are called **comments**.\n",
    "\n",
    "We can pass information about the functionality of the program in these lines, making our program reader friendly."
   ]
  },
  {
   "cell_type": "markdown",
   "metadata": {},
   "source": [
    "Hello World! with comments"
   ]
  },
  {
   "cell_type": "code",
   "execution_count": 41,
   "metadata": {},
   "outputs": [
    {
     "name": "stdout",
     "output_type": "stream",
     "text": [
      "Hello World!\n"
     ]
    }
   ],
   "source": [
    "#!/usr/bin/env python\n",
    "# The next line prints the string \"Hello World!\"\n",
    "print(\"Hello World!\")"
   ]
  },
  {
   "cell_type": "markdown",
   "metadata": {},
   "source": [
    "Comments are also used to disable certain parts of a code. Mainly for debugging."
   ]
  },
  {
   "cell_type": "markdown",
   "metadata": {},
   "source": [
    "### Indentation\n",
    "\n",
    "Identation makes python code easy to read."
   ]
  },
  {
   "cell_type": "raw",
   "metadata": {},
   "source": [
    "if true:\n",
    "    while in range:\n",
    "        do this\n",
    "        print('True and still in range')\n",
    "    print('True but outside the range')\n",
    "else:\n",
    "    print('False')"
   ]
  },
  {
   "cell_type": "markdown",
   "metadata": {},
   "source": [
    "Indented parts of the code mark sections (blocks), e.g. function bodies  (following a `def` statement) or code that is only executed under certain conditions (given by the `if` statement). Most python editors including _spyder_ indent lines following a `def` or an `if` clause automatically. \n",
    "\n",
    "If you happen to write your code in a plain editor without any filetype plugins, always make sure to use four whitespaces for indentation, do __not__ use tha `Tab` key to indent code. This will cause problems when opening the code later in a more sophisticated editor and may also lead to misinterpretation of the code.\n"
   ]
  },
  {
   "cell_type": "markdown",
   "metadata": {},
   "source": [
    "## References\n",
    "\n",
    "* [Python for Bioinformatics](https://www.routledge.com/Python-for-Bioinformatics/Bassi/p/book/9781138035263)"
   ]
  }
 ],
 "metadata": {
  "kernelspec": {
   "display_name": "Python 3",
   "language": "python",
   "name": "python3"
  },
  "language_info": {
   "codemirror_mode": {
    "name": "ipython",
    "version": 3
   },
   "file_extension": ".py",
   "mimetype": "text/x-python",
   "name": "python",
   "nbconvert_exporter": "python",
   "pygments_lexer": "ipython3",
   "version": "3.8.6"
  }
 },
 "nbformat": 4,
 "nbformat_minor": 4
}
