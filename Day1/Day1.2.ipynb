{
 "cells": [
  {
   "cell_type": "markdown",
   "metadata": {},
   "source": [
    "# Data types and Data Structures"
   ]
  },
  {
   "cell_type": "markdown",
   "metadata": {},
   "source": [
    "One of the most fundamental characteristics of a programming language is how it handles data. \n",
    "\n",
    "Here, we will first look into some basic data types, followed by data structures."
   ]
  },
  {
   "cell_type": "markdown",
   "metadata": {},
   "source": [
    "| Key | Data Type | Data Structure |\n",
    "| --- | --- | --- |\n",
    "| Definition | Data type represents the nature of the data that is to be used in programming. It describes the common properties shared by the data of the given type. For example, an integer data type describes every integer that the given macihine can handle. | Data structure is the collection that holds data, which can be manipulated and used in programming so that operations and algorithms can be more easily applied. For example lists are python data structures that can retain an ordered collection of different data types including different data structures.\n",
    "| Storage | Data type does not store the value of data as it only represents the type of data that can be stored. | Data structure holds the data along with its value that actually acquires the space in the main memory. Also data structure can hold different kind and types of data within one single object."
   ]
  },
  {
   "cell_type": "markdown",
   "metadata": {},
   "source": [
    "## Basic data types"
   ]
  },
  {
   "cell_type": "markdown",
   "metadata": {},
   "source": [
    "1. Numbers\n",
    "2. Strings\n",
    "3. Variables"
   ]
  },
  {
   "cell_type": "markdown",
   "metadata": {},
   "source": [
    "## Numbers"
   ]
  },
  {
   "cell_type": "markdown",
   "metadata": {},
   "source": [
    "### Integers"
   ]
  },
  {
   "cell_type": "code",
   "execution_count": null,
   "metadata": {},
   "outputs": [],
   "source": [
    "type(5)"
   ]
  },
  {
   "cell_type": "markdown",
   "metadata": {},
   "source": [
    "### Float (Real numbers)"
   ]
  },
  {
   "cell_type": "code",
   "execution_count": null,
   "metadata": {},
   "outputs": [],
   "source": [
    "type(3.5)"
   ]
  },
  {
   "cell_type": "markdown",
   "metadata": {},
   "source": [
    "### Complex numbers"
   ]
  },
  {
   "cell_type": "code",
   "execution_count": null,
   "metadata": {},
   "outputs": [],
   "source": [
    "type(1+3j)"
   ]
  },
  {
   "cell_type": "markdown",
   "metadata": {},
   "source": [
    "## Strings\n"
   ]
  },
  {
   "cell_type": "code",
   "execution_count": null,
   "metadata": {},
   "outputs": [],
   "source": [
    "type(\"Neel\")"
   ]
  },
  {
   "cell_type": "markdown",
   "metadata": {},
   "source": [
    "**A string is a sequence of symbols delimited by a single quote (’), double quotes(\"), triple single quotes (”’), or triple double quotes (\"\"\")**. \n",
    "\n",
    "Therefore, the following strings are equivalent:"
   ]
  },
  {
   "cell_type": "code",
   "execution_count": null,
   "metadata": {},
   "outputs": [],
   "source": [
    "print(\"This is a string in Python\")\n",
    "print('This is a string in Python')\n",
    "print('''This is a string in Python''')\n",
    "print(\"\"\"This is a string in Python\"\"\")"
   ]
  },
  {
   "cell_type": "markdown",
   "metadata": {},
   "source": [
    "The advantage of having both single (’) and double (\") quote delimiters is that we can insert a single quote in a string delimited for double quote, and vice versa:"
   ]
  },
  {
   "cell_type": "code",
   "execution_count": null,
   "metadata": {},
   "outputs": [],
   "source": [
    "print(\"A single quote (') inside a double quote\")\n",
    "print('Here we have \"double quotes\" inside single quotes')"
   ]
  },
  {
   "cell_type": "markdown",
   "metadata": {},
   "source": [
    "**We must always end a string with the same type of quote that we started with.**"
   ]
  },
  {
   "cell_type": "code",
   "execution_count": null,
   "metadata": {},
   "outputs": [],
   "source": [
    "print(\"Do not mix your quotes')"
   ]
  },
  {
   "cell_type": "markdown",
   "metadata": {},
   "source": [
    "#### Block strings\n",
    "\n",
    "Strings delimited by triple quotes can be used to indicate multi-line strings."
   ]
  },
  {
   "cell_type": "code",
   "execution_count": null,
   "metadata": {},
   "outputs": [],
   "source": [
    "print(\"\"\"\n",
    "This\n",
    "is\n",
    "a\n",
    "multi-line\n",
    "string.\"\"\")"
   ]
  },
  {
   "cell_type": "code",
   "execution_count": null,
   "metadata": {},
   "outputs": [],
   "source": [
    "print('''\n",
    "This\n",
    "is\n",
    "also\n",
    "a\n",
    "multi-line\n",
    "string.''')"
   ]
  },
  {
   "cell_type": "markdown",
   "metadata": {},
   "source": [
    "We can use the **'\\n' (EOL: end-of-line or new line)** character, to write the above strings without triple quotes."
   ]
  },
  {
   "cell_type": "code",
   "execution_count": null,
   "metadata": {},
   "outputs": [],
   "source": [
    "print('This\\ntoo\\nis\\na\\nmulti-line\\nstring.')"
   ]
  },
  {
   "cell_type": "markdown",
   "metadata": {},
   "source": [
    "**Triple quotes are better for formatting**."
   ]
  },
  {
   "cell_type": "code",
   "execution_count": null,
   "metadata": {},
   "outputs": [],
   "source": [
    "print('''\n",
    "This\n",
    "    too\n",
    "        is\n",
    "            a\n",
    "                multi-line\n",
    "                            string.''')"
   ]
  },
  {
   "cell_type": "markdown",
   "metadata": {},
   "source": [
    "#### Escape characters\n",
    "Backslash is an “escape” character that gives the next character a special meaning:"
   ]
  },
  {
   "cell_type": "markdown",
   "metadata": {},
   "source": [
    "| Construct | Meaning |\n",
    "| --- | --- |\n",
    "| \\n | Newline |\n",
    "| \\t | Tab |\n",
    "| \\\\\\ | Backslash |\n",
    "| \\\\\" | Double quote |"
   ]
  },
  {
   "cell_type": "code",
   "execution_count": null,
   "metadata": {},
   "outputs": [],
   "source": [
    "print(\"A double quote \\\" inside a double quote\")"
   ]
  },
  {
   "cell_type": "markdown",
   "metadata": {},
   "source": [
    "#### In python, strings are both a data type and a data structure.\n",
    "\n",
    "String belongs to a python group of data structure called **sequence**, which contain elements arranged in a sequential order. **Lists** and **tuples** are other sequence data structures. These sequences share certain common properties such as they can be indexed, sliced, and iterated. We will discuss other sequences and their properties later."
   ]
  },
  {
   "cell_type": "markdown",
   "metadata": {},
   "source": [
    "#### Basic string operators"
   ]
  },
  {
   "cell_type": "markdown",
   "metadata": {},
   "source": [
    "| Operator | Function |\n",
    "| --- | --- |\n",
    "| + | Concatenate strings |\n",
    "| * | Replcate (copy) strings |\n",
    "| in | membership test : true if the first exists inside the second string |\n",
    "| not in | non-memebrship tese : true if the first does not exists inside the second string  |"
   ]
  },
  {
   "cell_type": "code",
   "execution_count": null,
   "metadata": {},
   "outputs": [],
   "source": [
    "'atg' + 'gtacgtccgt'"
   ]
  },
  {
   "cell_type": "code",
   "execution_count": null,
   "metadata": {},
   "outputs": [],
   "source": [
    "'atg'*3"
   ]
  },
  {
   "cell_type": "code",
   "execution_count": null,
   "metadata": {},
   "outputs": [],
   "source": [
    "'atg' in 'atggccggcgta'"
   ]
  },
  {
   "cell_type": "code",
   "execution_count": null,
   "metadata": {},
   "outputs": [],
   "source": [
    "'atg' not in 'atggccggcgta'"
   ]
  },
  {
   "cell_type": "markdown",
   "metadata": {},
   "source": [
    "#### String Manipulation\n",
    "Strings are immutable and hence, once created, they can not be modified."
   ]
  },
  {
   "cell_type": "code",
   "execution_count": null,
   "metadata": {},
   "outputs": [],
   "source": [
    "s = 'agt'\n",
    "\n",
    "# Attempt to modify at 3rd position\n",
    "s[2] = c"
   ]
  },
  {
   "cell_type": "markdown",
   "metadata": {},
   "source": [
    "However, they can be passed as a parameter to a function, which returns a modified value of the input string.\n",
    "\n",
    "For example, by using the string method **lower()** we obtain the lower-case version of Carsten's name."
   ]
  },
  {
   "cell_type": "code",
   "execution_count": null,
   "metadata": {},
   "outputs": [],
   "source": [
    "NAME = 'Carsten Fortmann-Grote'\n",
    "name = NAME.lower()\n",
    "name"
   ]
  },
  {
   "cell_type": "code",
   "execution_count": null,
   "metadata": {},
   "outputs": [],
   "source": [
    "NAME"
   ]
  },
  {
   "cell_type": "markdown",
   "metadata": {},
   "source": [
    "A **method** is a function associated with a particular object. Here, our orginal string is the object."
   ]
  },
  {
   "cell_type": "markdown",
   "metadata": {},
   "source": [
    "We can also give the new string the same name as the old string."
   ]
  },
  {
   "cell_type": "code",
   "execution_count": null,
   "metadata": {},
   "outputs": [],
   "source": [
    "NAME = 'Carsten Fortmann-Grote'\n",
    "NAME = NAME.lower()\n",
    "NAME"
   ]
  },
  {
   "cell_type": "markdown",
   "metadata": {},
   "source": [
    "#### Common Methods Associated with Strings"
   ]
  },
  {
   "cell_type": "markdown",
   "metadata": {},
   "source": [
    "**replace(old,new\\[,n\\])**: Allows us to replace a portion of a string (old) with another (new). If the optional argument 'n' is used, only the first n occurrences of old will be replaced:"
   ]
  },
  {
   "cell_type": "code",
   "execution_count": null,
   "metadata": {},
   "outputs": [],
   "source": [
    "dna_seq = 'GCTAGTAATGTG'\n",
    "m_rna_seq = dna_seq.replace('T','U')\n",
    "m_rna_seq"
   ]
  },
  {
   "cell_type": "markdown",
   "metadata": {},
   "source": [
    "**count(sub\\[, start\\[, end\\]\\])**: Counts how many times the substring sub appears, between the start and end positions (if available). Let’s see how it can be used to calculate the CG content of a sequence:"
   ]
  },
  {
   "cell_type": "code",
   "execution_count": null,
   "metadata": {},
   "outputs": [],
   "source": [
    "dna_seq"
   ]
  },
  {
   "cell_type": "code",
   "execution_count": null,
   "metadata": {},
   "outputs": [],
   "source": [
    "c = dna_seq.count(\"C\")\n",
    "g = dna_seq.count(\"G\")\n",
    "(c+g)/len(dna_seq)*100"
   ]
  },
  {
   "cell_type": "markdown",
   "metadata": {},
   "source": [
    "**index(sub\\[,start\\[,end\\]\\])**: Returns the position of the substring sub, between the start and end positions (if available). If the substring is not found in the string, this method returns a ValueError:"
   ]
  },
  {
   "cell_type": "code",
   "execution_count": null,
   "metadata": {},
   "outputs": [],
   "source": [
    "m_rna_seq"
   ]
  },
  {
   "cell_type": "code",
   "execution_count": null,
   "metadata": {},
   "outputs": [],
   "source": [
    "m_rna_seq.index('AUG')"
   ]
  },
  {
   "cell_type": "code",
   "execution_count": null,
   "metadata": {},
   "outputs": [],
   "source": [
    "m_rna_seq.index('GGG')"
   ]
  },
  {
   "cell_type": "markdown",
   "metadata": {},
   "source": [
    "**split(\\[sep \\[,maxsplit\\]\\])**: Separates the “words” of a string and returns them as a list. If a separator (sep) is not specified, the default separator will be a whitespace:"
   ]
  },
  {
   "cell_type": "code",
   "execution_count": null,
   "metadata": {},
   "outputs": [],
   "source": [
    "'This string has words separated by single spaces'.split()"
   ]
  },
  {
   "cell_type": "code",
   "execution_count": null,
   "metadata": {},
   "outputs": [],
   "source": [
    " \"Bilal Haider,5555-5555,billy@boy.thomson\".split()"
   ]
  },
  {
   "cell_type": "code",
   "execution_count": null,
   "metadata": {},
   "outputs": [],
   "source": [
    " \"Bilal Haider,5555-5555,billy@boy.thomson\".split(\",\")"
   ]
  },
  {
   "cell_type": "markdown",
   "metadata": {},
   "source": [
    "**join(seq)**: It is the inverse function of split, which Joins the sequence using a string as a “glue character”:"
   ]
  },
  {
   "cell_type": "code",
   "execution_count": null,
   "metadata": {},
   "outputs": [],
   "source": [
    "':'.join(['Bilal Haider', '5555-5555', 'billy@boy.thomson'])"
   ]
  },
  {
   "cell_type": "markdown",
   "metadata": {},
   "source": [
    "To join a sequence without any glue character, use empty quotes (\"\"):"
   ]
  },
  {
   "cell_type": "code",
   "execution_count": null,
   "metadata": {},
   "outputs": [],
   "source": [
    "''.join(['A','T','A','C'])"
   ]
  },
  {
   "cell_type": "markdown",
   "metadata": {},
   "source": [
    "## Variables\n",
    "\n",
    "Variables are storage containers for numbers, strings, etc."
   ]
  },
  {
   "cell_type": "markdown",
   "metadata": {},
   "source": [
    "The equal sign (**=**NAME = 'Carsten Fortmann-Grote') is used to assign a value to a variable."
   ]
  },
  {
   "cell_type": "code",
   "execution_count": null,
   "metadata": {},
   "outputs": [],
   "source": [
    "Person1 = 'Carsten Fortmann-Grote'"
   ]
  },
  {
   "cell_type": "markdown",
   "metadata": {},
   "source": [
    " A variable should be defined before use."
   ]
  },
  {
   "cell_type": "code",
   "execution_count": null,
   "metadata": {},
   "outputs": [],
   "source": [
    "Person2"
   ]
  },
  {
   "cell_type": "markdown",
   "metadata": {},
   "source": [
    "The name associated with the value is called a **variable**, beacuse its value can vary.\n",
    "\n",
    "In reality there is no value assignment in **Python**, there is only **binding names with objects**."
   ]
  },
  {
   "cell_type": "code",
   "execution_count": null,
   "metadata": {},
   "outputs": [],
   "source": [
    "a = 2\n",
    "a"
   ]
  },
  {
   "cell_type": "code",
   "execution_count": null,
   "metadata": {},
   "outputs": [],
   "source": [
    "b = a\n",
    "b"
   ]
  },
  {
   "cell_type": "markdown",
   "metadata": {},
   "source": [
    "Here we bind `b` with a new object which is the sum of existing `b` and integer 5."
   ]
  },
  {
   "cell_type": "code",
   "execution_count": null,
   "metadata": {},
   "outputs": [],
   "source": [
    "b = b + 5\n",
    "b"
   ]
  },
  {
   "cell_type": "code",
   "execution_count": null,
   "metadata": {},
   "outputs": [],
   "source": [
    "a = 100\n",
    "a"
   ]
  },
  {
   "cell_type": "code",
   "execution_count": null,
   "metadata": {},
   "outputs": [],
   "source": [
    "a += 1 # a = a + 1\n",
    "a"
   ]
  },
  {
   "cell_type": "code",
   "execution_count": null,
   "metadata": {},
   "outputs": [],
   "source": [
    "b = 200\n",
    "b =  0 + 100\n",
    "b"
   ]
  },
  {
   "cell_type": "markdown",
   "metadata": {},
   "source": [
    "In complex data types:"
   ]
  },
  {
   "cell_type": "code",
   "execution_count": null,
   "metadata": {},
   "outputs": [],
   "source": [
    "ls_a = [1, 2, 3] # ls_a is name bound to a list with three elements\n",
    "ls_b = ls_a # ls_b is also bound to the same list\n",
    "ls_b[1] = 100 # change the object at postion [1], but it changes the original list\n",
    "ls_a"
   ]
  },
  {
   "cell_type": "code",
   "execution_count": null,
   "metadata": {},
   "outputs": [],
   "source": [
    "ls_a = [1, 2, 3]\n",
    "ls_b = ls_a\n",
    "ls_b = ls_b*2 # list b is bound to a new list that is replicate of the original list\n",
    "ls_a # original list does not change"
   ]
  },
  {
   "cell_type": "code",
   "execution_count": null,
   "metadata": {},
   "outputs": [],
   "source": [
    "ls_b "
   ]
  },
  {
   "cell_type": "code",
   "execution_count": null,
   "metadata": {},
   "outputs": [],
   "source": [
    "ls_a = [1, 2, 3]\n",
    "ls_b = ls_a\n",
    "ls_b = ls_b*1 # list b is bound to a new list that is replicate of the original list\n",
    "ls_b[1] = 100 # now that the list_b is bound to a new list , changes in this list has no impact on the original list\n",
    "ls_a"
   ]
  },
  {
   "cell_type": "code",
   "execution_count": null,
   "metadata": {},
   "outputs": [],
   "source": [
    "ls_b"
   ]
  },
  {
   "cell_type": "markdown",
   "metadata": {},
   "source": [
    "Variable names are **case-sensitive**."
   ]
  },
  {
   "cell_type": "code",
   "execution_count": null,
   "metadata": {},
   "outputs": [],
   "source": [
    "Variable1 = 1\n",
    "variable1 = 11\n",
    "VARIABLE1 = 111\n",
    "print(Variable1, variable1, VARIABLE1)"
   ]
  },
  {
   "cell_type": "markdown",
   "metadata": {},
   "source": [
    "#### Variable names can only consist of letters, numbers (not the first letter), and the underscore character.\n",
    "\n",
    "Valid names: name, My_str, DNA , sequence1 \n",
    "\n",
    "Invalid names: 1string, name#, year@21"
   ]
  },
  {
   "cell_type": "markdown",
   "metadata": {},
   "source": [
    "Note: **Please give meaningful names to variables**. eg. 'ProteinSeq' is much better than 'p'."
   ]
  },
  {
   "cell_type": "markdown",
   "metadata": {},
   "source": [
    "# Data structures\n",
    "\n",
    "There are two types of Python data structures:"
   ]
  },
  {
   "cell_type": "markdown",
   "metadata": {},
   "source": [
    "1. Sequencial data structures, which include **strings**, **lists**, and **tuples**.\n",
    "2. Unordered  data structures. which include **dictionaries** and **sets**."
   ]
  },
  {
   "cell_type": "markdown",
   "metadata": {},
   "source": [
    "## Lists\n",
    "\n",
    "A list is an ordered collection of objects. \n",
    "\n",
    "It is represented by elements separated by commas and enclosed between square brackets."
   ]
  },
  {
   "cell_type": "markdown",
   "metadata": {},
   "source": [
    "We have seen a list while applying the split() function."
   ]
  },
  {
   "cell_type": "code",
   "execution_count": null,
   "metadata": {},
   "outputs": [],
   "source": [
    " \"Bilal Haider,5555-5555,billy@boy.thomson\".split(',')"
   ]
  },
  {
   "cell_type": "markdown",
   "metadata": {},
   "source": [
    "All three elements of the resulting list, seperated by commas, are strings."
   ]
  },
  {
   "cell_type": "markdown",
   "metadata": {},
   "source": [
    "The next code shows how to define and name a list:"
   ]
  },
  {
   "cell_type": "code",
   "execution_count": null,
   "metadata": {},
   "outputs": [],
   "source": [
    "first_list = [1, 2, 3, 4, 5,]\n",
    "first_list"
   ]
  },
  {
   "cell_type": "markdown",
   "metadata": {},
   "source": [
    "A list can hold differnt kinds of elements:"
   ]
  },
  {
   "cell_type": "code",
   "execution_count": null,
   "metadata": {},
   "outputs": [],
   "source": [
    "second_list = [1, 'two', 3, 4, 'five']\n",
    "second_list"
   ]
  },
  {
   "cell_type": "code",
   "execution_count": null,
   "metadata": {},
   "outputs": [],
   "source": [
    "nested_list = [1, 'two', first_list, 'five']\n",
    "nested_list"
   ]
  },
  {
   "cell_type": "code",
   "execution_count": null,
   "metadata": {},
   "outputs": [],
   "source": [
    "type(nested_list)"
   ]
  },
  {
   "cell_type": "markdown",
   "metadata": {},
   "source": [
    "We can also define an empty list with empty brackets:"
   ]
  },
  {
   "cell_type": "code",
   "execution_count": null,
   "metadata": {},
   "outputs": [],
   "source": [
    "empty_list = []\n",
    "empty_list"
   ]
  },
  {
   "cell_type": "markdown",
   "metadata": {},
   "source": [
    "#### List with repeated items"
   ]
  },
  {
   "cell_type": "markdown",
   "metadata": {},
   "source": [
    "A list can be intialised with the same item repeated multiple times using the __*__ operator."
   ]
  },
  {
   "cell_type": "code",
   "execution_count": null,
   "metadata": {},
   "outputs": [],
   "source": [
    "List_Uno = [1] * 5\n",
    "List_Uno"
   ]
  },
  {
   "cell_type": "markdown",
   "metadata": {},
   "source": [
    "It is also possible to create an empty list of a given size."
   ]
  },
  {
   "cell_type": "code",
   "execution_count": null,
   "metadata": {},
   "outputs": [],
   "source": [
    "List_Null = [None] * 5\n",
    "List_Null"
   ]
  },
  {
   "cell_type": "markdown",
   "metadata": {},
   "source": [
    "#### __List Comprehension__\n",
    "\n",
    "A list can be created from another list."
   ]
  },
  {
   "cell_type": "code",
   "execution_count": null,
   "metadata": {},
   "outputs": [],
   "source": [
    "List_Enumerated = [1, 2, 3, 4, 5]\n",
    "List_Comprehended = [x*2 for x in List_Enumerated]\n",
    "List_Comprehended"
   ]
  },
  {
   "cell_type": "markdown",
   "metadata": {},
   "source": [
    "List comprehension means creating a new list by describing the property shared by all its members. \n",
    "\n",
    "In the above case, all members of the List_Comprehended are obtained by extracting the members of List_Enumerated and then doubling them."
   ]
  },
  {
   "cell_type": "markdown",
   "metadata": {},
   "source": [
    "### Modifying Lists\n",
    "Unlike strings, lists can be modified by adding, removing, or changing their elements:"
   ]
  },
  {
   "cell_type": "markdown",
   "metadata": {},
   "source": [
    "#### **Adding**\n",
    "\n",
    "There are three ways to add elements to a list: append, insert, and extend."
   ]
  },
  {
   "cell_type": "markdown",
   "metadata": {},
   "source": [
    "**append(element)**: Adds an element at the end of the list."
   ]
  },
  {
   "cell_type": "code",
   "execution_count": null,
   "metadata": {},
   "outputs": [],
   "source": [
    "first_list"
   ]
  },
  {
   "cell_type": "code",
   "execution_count": null,
   "metadata": {},
   "outputs": [],
   "source": [
    "first_list.append(99)\n",
    "first_list"
   ]
  },
  {
   "cell_type": "markdown",
   "metadata": {},
   "source": [
    "**insert(position,element)**: Inserts the given element at the given position."
   ]
  },
  {
   "cell_type": "code",
   "execution_count": null,
   "metadata": {},
   "outputs": [],
   "source": [
    "first_list.insert(2,50)\n",
    "first_list"
   ]
  },
  {
   "cell_type": "markdown",
   "metadata": {},
   "source": [
    "**extend(list)**: Extends a list by adding a list to the end of the original list."
   ]
  },
  {
   "cell_type": "code",
   "execution_count": null,
   "metadata": {},
   "outputs": [],
   "source": [
    "first_list.extend([6,7,8])\n",
    "first_list"
   ]
  },
  {
   "cell_type": "markdown",
   "metadata": {},
   "source": [
    "Same as using the __+__ symbol."
   ]
  },
  {
   "cell_type": "code",
   "execution_count": null,
   "metadata": {},
   "outputs": [],
   "source": [
    "[1,2,3]+[4,5]"
   ]
  },
  {
   "cell_type": "markdown",
   "metadata": {},
   "source": [
    "#### **Removing**\n",
    "There are three ways to remove elements from a list: remove, pop, and del."
   ]
  },
  {
   "cell_type": "markdown",
   "metadata": {},
   "source": [
    "**remove(element)**: Removes the element specified in the parameter but does not return anything. In the case where there is more than one copy of the same object in the list, it removes the first one, counting from the left. "
   ]
  },
  {
   "cell_type": "code",
   "execution_count": null,
   "metadata": {},
   "outputs": [],
   "source": [
    "first_list.remove(99)"
   ]
  },
  {
   "cell_type": "code",
   "execution_count": null,
   "metadata": {},
   "outputs": [],
   "source": [
    "first_list"
   ]
  },
  {
   "cell_type": "code",
   "execution_count": null,
   "metadata": {},
   "outputs": [],
   "source": [
    "first_list.remove(6)\n",
    "first_list"
   ]
  },
  {
   "cell_type": "markdown",
   "metadata": {},
   "source": [
    "**pop(index)**: Removes and returns the element at the specified index in the parameter."
   ]
  },
  {
   "cell_type": "code",
   "execution_count": null,
   "metadata": {},
   "outputs": [],
   "source": [
    "first_list.pop(0)"
   ]
  },
  {
   "cell_type": "code",
   "execution_count": null,
   "metadata": {},
   "outputs": [],
   "source": [
    "first_list"
   ]
  },
  {
   "cell_type": "markdown",
   "metadata": {},
   "source": [
    "**del**: Has the same effect at pop but does not return anything."
   ]
  },
  {
   "cell_type": "code",
   "execution_count": null,
   "metadata": {},
   "outputs": [],
   "source": [
    "del(first_list[0])"
   ]
  },
  {
   "cell_type": "code",
   "execution_count": null,
   "metadata": {},
   "outputs": [],
   "source": [
    "first_list"
   ]
  },
  {
   "cell_type": "markdown",
   "metadata": {},
   "source": [
    "#### **Copying**\n",
    "\n",
    "Copying a list is a tricky buissnes."
   ]
  },
  {
   "cell_type": "code",
   "execution_count": null,
   "metadata": {},
   "outputs": [],
   "source": [
    "a = [1, 2, 3]\n",
    "b = a\n",
    "b"
   ]
  },
  {
   "cell_type": "code",
   "execution_count": null,
   "metadata": {},
   "outputs": [],
   "source": [
    "b.pop()"
   ]
  },
  {
   "cell_type": "code",
   "execution_count": null,
   "metadata": {},
   "outputs": [],
   "source": [
    "a"
   ]
  },
  {
   "cell_type": "markdown",
   "metadata": {},
   "source": [
    "So the \"__=__\" does not copy values, it copies the reference to the original list.\n",
    "\n",
    "To copy a list:\n",
    "\n",
    "1. Use the **copy** method from the **copy** module."
   ]
  },
  {
   "cell_type": "code",
   "execution_count": null,
   "metadata": {},
   "outputs": [],
   "source": [
    "from copy import copy as cp\n",
    "a = [1, 2, 3]\n",
    "b = cp(a)\n",
    "b.pop()"
   ]
  },
  {
   "cell_type": "code",
   "execution_count": null,
   "metadata": {},
   "outputs": [],
   "source": [
    "a"
   ]
  },
  {
   "cell_type": "markdown",
   "metadata": {},
   "source": [
    "2. Use **slicing**"
   ]
  },
  {
   "cell_type": "code",
   "execution_count": null,
   "metadata": {},
   "outputs": [],
   "source": [
    "a[:]"
   ]
  },
  {
   "cell_type": "code",
   "execution_count": null,
   "metadata": {},
   "outputs": [],
   "source": [
    "b = a[:]\n",
    "b.pop()"
   ]
  },
  {
   "cell_type": "code",
   "execution_count": null,
   "metadata": {},
   "outputs": [],
   "source": [
    "a"
   ]
  },
  {
   "cell_type": "markdown",
   "metadata": {},
   "source": [
    "## Tuples\n",
    "\n",
    "### Tuples Are Immutable Lists\n",
    "\n",
    "A tuple is a collection of ordered objects with the characteristic that once created, it cannot be modified. That is why they are referred to as \"immutable lists\".\n",
    "\n",
    "Tuples elements are enclosed between parentheses."
   ]
  },
  {
   "cell_type": "code",
   "execution_count": null,
   "metadata": {},
   "outputs": [],
   "source": [
    "first_tuple = (1 , 2, 3)\n",
    "first_tuple"
   ]
  },
  {
   "cell_type": "code",
   "execution_count": null,
   "metadata": {},
   "outputs": [],
   "source": [
    "Lonely_tuple = (4,)\n",
    "Lonely_tuple"
   ]
  },
  {
   "cell_type": "markdown",
   "metadata": {},
   "source": [
    "The trailing comma is important, otherwise the parantheses will be ignored for Lonely_tuple and it will interpreted just as the integer 5."
   ]
  },
  {
   "cell_type": "code",
   "execution_count": null,
   "metadata": {},
   "outputs": [],
   "source": [
    "type(Lonely_tuple)"
   ]
  },
  {
   "cell_type": "code",
   "execution_count": null,
   "metadata": {},
   "outputs": [],
   "source": [
    "Lonely_No = (4)\n",
    "type(Lonely_No)"
   ]
  },
  {
   "cell_type": "markdown",
   "metadata": {},
   "source": [
    "You cannot add or remove elements from a tuple:"
   ]
  },
  {
   "cell_type": "code",
   "execution_count": null,
   "metadata": {},
   "outputs": [],
   "source": [
    "first_tuple.append(4)"
   ]
  },
  {
   "cell_type": "markdown",
   "metadata": {},
   "source": [
    "#### Tuples take less memory than lists and allow faster operations."
   ]
  },
  {
   "cell_type": "markdown",
   "metadata": {},
   "source": [
    "## Common Properties of the Sequences\n",
    "\n",
    "The follwing properties can be applied to strings, lists, and tuples."
   ]
  },
  {
   "cell_type": "markdown",
   "metadata": {},
   "source": [
    "### Indexing\n",
    "\n",
    "Since the elements of a sequence are ordered, we can gain access to any element through an index that begins at zero."
   ]
  },
  {
   "cell_type": "code",
   "execution_count": null,
   "metadata": {},
   "outputs": [],
   "source": [
    "MyStr = 'Python'\n",
    "MyList = list(MyStr)\n",
    "MyTuple = tuple(MyStr)\n",
    "print(MyStr) \n",
    "print(MyList)\n",
    "print(MyTuple)"
   ]
  },
  {
   "cell_type": "markdown",
   "metadata": {},
   "source": [
    "**list()** converts other sequences into a list and **tuple()** converts other sequences into a tuple."
   ]
  },
  {
   "cell_type": "raw",
   "metadata": {},
   "source": [
    "   0   1   2   3   4   5   <== index from left\n",
    " +---+---+---+---+---+---+\n",
    " | P | y | t | h | o | n | <== elements\n",
    " +---+---+---+---+---+---+"
   ]
  },
  {
   "cell_type": "markdown",
   "metadata": {},
   "source": [
    "\n",
    "Indexing is done by placing the index number in brackets after the varaible name."
   ]
  },
  {
   "cell_type": "code",
   "execution_count": null,
   "metadata": {},
   "outputs": [],
   "source": [
    "MyStr[1]"
   ]
  },
  {
   "cell_type": "code",
   "execution_count": null,
   "metadata": {},
   "outputs": [],
   "source": [
    "MyList[0]"
   ]
  },
  {
   "cell_type": "code",
   "execution_count": null,
   "metadata": {},
   "outputs": [],
   "source": [
    "MyTuple[3]"
   ]
  },
  {
   "cell_type": "markdown",
   "metadata": {},
   "source": [
    "Indexing can also be done from the right side."
   ]
  },
  {
   "cell_type": "raw",
   "metadata": {},
   "source": [
    "   0   1   2   3   4   5   <== index from left\n",
    " +---+---+---+---+---+---+\n",
    " | P | y | t | h | o | n | <== elements\n",
    " +---+---+---+---+---+---+\n",
    "  -6  -5  -4  -3  -2  -1   <== index from right"
   ]
  },
  {
   "cell_type": "code",
   "execution_count": null,
   "metadata": {},
   "outputs": [],
   "source": [
    "MyStr[-1]"
   ]
  },
  {
   "cell_type": "code",
   "execution_count": null,
   "metadata": {},
   "outputs": [],
   "source": [
    "MyList[-6]"
   ]
  },
  {
   "cell_type": "code",
   "execution_count": null,
   "metadata": {},
   "outputs": [],
   "source": [
    "MyTuple[-3]"
   ]
  },
  {
   "cell_type": "markdown",
   "metadata": {},
   "source": [
    "#### **Double indexing**\n",
    "We can also access elements that are inside a sequence, which is inside another sequence."
   ]
  },
  {
   "cell_type": "code",
   "execution_count": null,
   "metadata": {},
   "outputs": [],
   "source": [
    "nested_list"
   ]
  },
  {
   "cell_type": "code",
   "execution_count": null,
   "metadata": {},
   "outputs": [],
   "source": [
    "nested_list[2][-1]"
   ]
  },
  {
   "cell_type": "code",
   "execution_count": null,
   "metadata": {},
   "outputs": [],
   "source": [
    "nested_list[2][-1][2]"
   ]
  },
  {
   "cell_type": "markdown",
   "metadata": {},
   "source": [
    "### Slicing\n",
    "\n",
    "We can select a portion of a sequence using the slice notation. Slicing consists of using two index coordinates separated by a colon (:). \n",
    "\n",
    "These coordinates represent a slice in the existing space between the elements."
   ]
  },
  {
   "cell_type": "raw",
   "metadata": {},
   "source": [
    " 0   1   2   3   4   5   6  <== slicing coordinates\n",
    " +---+---+---+---+---+---+\n",
    " | P | y | t | h | o | n |  <== elements\n",
    " +---+---+---+---+---+---+\n",
    "-6  -5  -4  -3  -2  -1      <== slicing coordinates"
   ]
  },
  {
   "cell_type": "code",
   "execution_count": null,
   "metadata": {},
   "outputs": [],
   "source": [
    "MyStr[0:2]"
   ]
  },
  {
   "cell_type": "markdown",
   "metadata": {},
   "source": [
    "By ommiting the first sub-index, the index value defaults to the first position(0)."
   ]
  },
  {
   "cell_type": "code",
   "execution_count": null,
   "metadata": {},
   "outputs": [],
   "source": [
    "MyStr[:2]"
   ]
  },
  {
   "cell_type": "code",
   "execution_count": null,
   "metadata": {},
   "outputs": [],
   "source": [
    "MyStr[3:]"
   ]
  },
  {
   "cell_type": "code",
   "execution_count": null,
   "metadata": {},
   "outputs": [],
   "source": [
    "MyStr[-6:-4]"
   ]
  },
  {
   "cell_type": "code",
   "execution_count": null,
   "metadata": {},
   "outputs": [],
   "source": [
    "MyStr[-2:-1]"
   ]
  },
  {
   "cell_type": "markdown",
   "metadata": {},
   "source": [
    "**Step argument** is the optinal third index used to skip positions."
   ]
  },
  {
   "cell_type": "code",
   "execution_count": null,
   "metadata": {},
   "outputs": [],
   "source": [
    "MyStr[0:5]"
   ]
  },
  {
   "cell_type": "code",
   "execution_count": null,
   "metadata": {},
   "outputs": [],
   "source": [
    "MyStr[0:5:2]"
   ]
  },
  {
   "cell_type": "markdown",
   "metadata": {},
   "source": [
    "Step with negative argument is used for backward counting. Hence, -1 can be used as the step argument to **invert a sequence**."
   ]
  },
  {
   "cell_type": "code",
   "execution_count": null,
   "metadata": {},
   "outputs": [],
   "source": [
    "MyStr[::-1]"
   ]
  },
  {
   "cell_type": "markdown",
   "metadata": {},
   "source": [
    "#### Slicing always returns another sequence."
   ]
  },
  {
   "cell_type": "markdown",
   "metadata": {},
   "source": [
    "### Membership Test\n",
    "\n",
    "We can verify whether an element belongs to a sequence, using the **in** keyword."
   ]
  },
  {
   "cell_type": "code",
   "execution_count": null,
   "metadata": {},
   "outputs": [],
   "source": [
    "point = (23, 56, 11)\n",
    "11 in point"
   ]
  },
  {
   "cell_type": "code",
   "execution_count": null,
   "metadata": {},
   "outputs": [],
   "source": [
    "my_sequence = 'MRVLLVALALLALAASATS'\n",
    "'X' in my_sequence"
   ]
  },
  {
   "cell_type": "markdown",
   "metadata": {},
   "source": [
    "### Concatenation\n",
    "We can concatenate two or more sequences of the same class using the “+” sign."
   ]
  },
  {
   "cell_type": "code",
   "execution_count": null,
   "metadata": {},
   "outputs": [],
   "source": [
    "point2 = (2, 6, 7)\n",
    "point + point2"
   ]
  },
  {
   "cell_type": "code",
   "execution_count": null,
   "metadata": {},
   "outputs": [],
   "source": [
    "dna_seq = 'ATGCTAGACGTCCTCAGATAGCCG'\n",
    "tata_box = 'TATAAA'"
   ]
  },
  {
   "cell_type": "code",
   "execution_count": null,
   "metadata": {},
   "outputs": [],
   "source": [
    "tata_box + dna_seq"
   ]
  },
  {
   "cell_type": "code",
   "execution_count": null,
   "metadata": {},
   "outputs": [],
   "source": [
    "tata_box + point"
   ]
  },
  {
   "cell_type": "markdown",
   "metadata": {},
   "source": [
    "### len, max, and min\n",
    "**len()** returns the length (the number of items) of a sequence. \n",
    "\n",
    "**max()** and **min()** applied over a sequence of numbers return, as expected, the maximum and the minimum value."
   ]
  },
  {
   "cell_type": "code",
   "execution_count": null,
   "metadata": {},
   "outputs": [],
   "source": [
    "len(point)"
   ]
  },
  {
   "cell_type": "code",
   "execution_count": null,
   "metadata": {},
   "outputs": [],
   "source": [
    "max(point)"
   ]
  },
  {
   "cell_type": "code",
   "execution_count": null,
   "metadata": {},
   "outputs": [],
   "source": [
    "min(point)"
   ]
  },
  {
   "cell_type": "markdown",
   "metadata": {},
   "source": [
    "max() and min() applied to strings return a character according to the maximum or minimum value of its ASCII code."
   ]
  },
  {
   "cell_type": "markdown",
   "metadata": {},
   "source": [
    "## Dictionaries\n",
    "\n",
    "### Mapping: Calling Each Value by a Name\n",
    "Dictionaries are a special data structures not present in all programming languages. \n",
    "\n",
    "The main characteristic of a dictionary is that it stores arbitrary indexed unordered data types."
   ]
  },
  {
   "cell_type": "code",
   "execution_count": null,
   "metadata": {},
   "outputs": [],
   "source": [
    "iupac = {'A':'Ala','C':'Cys','E':'Glu'}\n",
    "print('C stands for the amino acid {}.'.format(iupac['C']))"
   ]
  },
  {
   "cell_type": "markdown",
   "metadata": {},
   "source": [
    "iupac is the name of a dictionary with three elements. \n",
    "\n",
    "It was defined by encloing key:value pairs between curly brackets ({}). \n",
    "\n",
    "Every element consists of a key:value pair. \n",
    "\n",
    "The key is the index used to retrieve the value."
   ]
  },
  {
   "cell_type": "code",
   "execution_count": null,
   "metadata": {},
   "outputs": [],
   "source": [
    "iupac['E']"
   ]
  },
  {
   "cell_type": "markdown",
   "metadata": {},
   "source": [
    "Only immutable objects like strings, tuples and numbers can be used as keys"
   ]
  },
  {
   "cell_type": "markdown",
   "metadata": {},
   "source": [
    "A dictionary can also be created from a sequence with **dict**."
   ]
  },
  {
   "cell_type": "code",
   "execution_count": null,
   "metadata": {},
   "outputs": [],
   "source": [
    "rgb = [('red','ff0000'), ('green','00ff00'), ('blue','0000ff')]\n",
    "colors_d = dict(rgb)\n",
    "colors_d"
   ]
  },
  {
   "cell_type": "markdown",
   "metadata": {},
   "source": [
    "**dict** also accepts name=value pairs in the keyword argument list."
   ]
  },
  {
   "cell_type": "code",
   "execution_count": null,
   "metadata": {},
   "outputs": [],
   "source": [
    "colors_d = dict(red='ff0000', green='00ff00', blue='0000ff')\n",
    "colors_d"
   ]
  },
  {
   "cell_type": "markdown",
   "metadata": {},
   "source": [
    "Another way to initialize a dictionary is to create an empty dictionary and add elements as needed."
   ]
  },
  {
   "cell_type": "code",
   "execution_count": null,
   "metadata": {},
   "outputs": [],
   "source": [
    "rgb = {}\n",
    "rgb['green'] = '00ff00'\n",
    "rgb['red'] = 'ff0000'\n",
    "rgb"
   ]
  },
  {
   "cell_type": "markdown",
   "metadata": {},
   "source": [
    "## Dictionary Methods"
   ]
  },
  {
   "cell_type": "markdown",
   "metadata": {},
   "source": [
    "| Methods | Descriptions |\n",
    "| --- | --- |\n",
    "| len(d) | Number of elements of d |\n",
    "| d\\[k\\] | The element from d that has a k key |\n",
    "| d\\[k\\] = v | Set d\\[k\\] to v |\n",
    "| del d\\[k\\] | Remove d\\[k\\] from d |\n",
    "| d.clear() | Remove all items fromd | \n",
    "| d.copy() | Copy d |\n",
    "| k in d | True if d has a key k, else False |\n",
    "| k not in d | Equivalent to not k in d | \n",
    "| d.has_key(k) | Equivalent to k in d, use that form in new code |\n",
    "| d.items() | A copy of d’s list of (key, value) pairs |\n",
    "| d.keys() | A copy of d’s list of keys | \n",
    "| d.update(\\[b\\]) | Updates (and overwrites) key/value pairs from b | \n",
    "| d.fromkeys(seq\\[,value\\]) | Creates a new dictionary with keys from seq and values set to value |\n",
    "| d.values() | A copy of d’s list of values |\n",
    "| d.get(k\\[, x\\]) | a\\[k\\] if k in d, else x |\n",
    "| d.setdefault(k\\[, x\\]) | a\\[k\\] if k i nd, else x (also setting it) | \n",
    "| d.pop(k\\[, x\\]) | d\\[k\\] if k in d, else x(and remove k) |\n",
    "| d.popitem() | Remove and return an arbitrary (key, value) pair"
   ]
  },
  {
   "cell_type": "code",
   "execution_count": null,
   "metadata": {},
   "outputs": [],
   "source": [
    "iupac = {'A':'Ala','C':'Cys','E':'Glu' , 'X':'Xaa'}"
   ]
  },
  {
   "cell_type": "code",
   "execution_count": null,
   "metadata": {},
   "outputs": [],
   "source": [
    "iupac.keys()"
   ]
  },
  {
   "cell_type": "code",
   "execution_count": null,
   "metadata": {},
   "outputs": [],
   "source": [
    "iupac.values()"
   ]
  },
  {
   "cell_type": "markdown",
   "metadata": {},
   "source": [
    "Note that these methods do not return a list, but they return a special object called **dictionary views**. This object shows you the current keys or values, so if it changes in the dictionary, it will change in the dictionary view."
   ]
  },
  {
   "cell_type": "markdown",
   "metadata": {},
   "source": [
    "Another way of accessing the elements of a dictionary is by using **items()**, which returns a dictionary view with a tuple for every key/value pair."
   ]
  },
  {
   "cell_type": "code",
   "execution_count": null,
   "metadata": {},
   "outputs": [],
   "source": [
    "iupac.items()"
   ]
  },
  {
   "cell_type": "markdown",
   "metadata": {},
   "source": [
    "To query a value from a dictionary without the risk of invoking an exception, we use get(k,x). \n",
    "\n",
    "K is the key of the element to extract, while x is the element that will be returned in case k is not found as a key of the dictionary."
   ]
  },
  {
   "cell_type": "code",
   "execution_count": null,
   "metadata": {},
   "outputs": [],
   "source": [
    " iupac.get('A','No translation available')"
   ]
  },
  {
   "cell_type": "code",
   "execution_count": null,
   "metadata": {},
   "outputs": [],
   "source": [
    " iupac.get('Z','No translation available')"
   ]
  },
  {
   "cell_type": "markdown",
   "metadata": {},
   "source": [
    "To erase elements from a dictionary, use the **del** instruction"
   ]
  },
  {
   "cell_type": "code",
   "execution_count": null,
   "metadata": {},
   "outputs": [],
   "source": [
    "del iupac['A']\n",
    "iupac"
   ]
  },
  {
   "cell_type": "markdown",
   "metadata": {},
   "source": [
    "## Sets\n",
    "\n",
    "This type of data is also not commonly found in other programming languages. \n",
    "\n",
    "A set is a structure frequently found in mathematics. \n",
    "\n",
    "It is similar to a list, with two outstanding differences:\n",
    "1. Its elements do not preserve an implied order.\n",
    "2. Every element is unique.\n",
    "\n",
    "The most common uses of sets are membership testing, duplicate removal, and the application of mathematical operations: intersections, unions, differences, and symmetrical differences."
   ]
  },
  {
   "cell_type": "markdown",
   "metadata": {},
   "source": [
    "### Creating a set"
   ]
  },
  {
   "cell_type": "code",
   "execution_count": null,
   "metadata": {},
   "outputs": [],
   "source": [
    "first_set = {'CP0140.1','XJ8113.5','EF3616.3'}\n",
    "first_set"
   ]
  },
  {
   "cell_type": "code",
   "execution_count": null,
   "metadata": {},
   "outputs": [],
   "source": [
    "type(first_set)"
   ]
  },
  {
   "cell_type": "markdown",
   "metadata": {},
   "source": [
    "We can also create an empty set and then add elements to it."
   ]
  },
  {
   "cell_type": "code",
   "execution_count": null,
   "metadata": {},
   "outputs": [],
   "source": [
    "first_set = set()\n",
    "first_set.add('CP0140.1')\n",
    "first_set.add('XJ8113.5')\n",
    "first_set.add('EF3616.3')\n",
    "first_set"
   ]
  },
  {
   "cell_type": "markdown",
   "metadata": {},
   "source": [
    "A set does not accept duplicated elements."
   ]
  },
  {
   "cell_type": "code",
   "execution_count": null,
   "metadata": {},
   "outputs": [],
   "source": [
    "unique_set = {2,2,3,4,5,3}\n",
    "unique_set"
   ]
  },
  {
   "cell_type": "markdown",
   "metadata": {},
   "source": [
    "## Set operations\n",
    "\n",
    "### Intersection\n",
    "\n",
    "Intersection gives the common elements from two sets."
   ]
  },
  {
   "cell_type": "markdown",
   "metadata": {},
   "source": [
    "<img src=\"intersection-in-python.jpg\" alt=\"Drawing\" style=\"width: 400px;\"/>"
   ]
  },
  {
   "cell_type": "code",
   "execution_count": null,
   "metadata": {},
   "outputs": [],
   "source": [
    "first_set"
   ]
  },
  {
   "cell_type": "code",
   "execution_count": null,
   "metadata": {},
   "outputs": [],
   "source": [
    "other_set = {'EF3616.3'}\n",
    "other_set"
   ]
  },
  {
   "cell_type": "code",
   "execution_count": null,
   "metadata": {},
   "outputs": [],
   "source": [
    "common = first_set.intersection(other_set)\n",
    "common"
   ]
  },
  {
   "cell_type": "markdown",
   "metadata": {},
   "source": [
    "Intersection is equivalent to &."
   ]
  },
  {
   "cell_type": "code",
   "execution_count": null,
   "metadata": {},
   "outputs": [],
   "source": [
    "common = first_set & other_set\n",
    "common"
   ]
  },
  {
   "cell_type": "markdown",
   "metadata": {},
   "source": [
    "### Union"
   ]
  },
  {
   "cell_type": "markdown",
   "metadata": {},
   "source": [
    "<img src=\"Union-in-python.jpg\" alt=\"Drawing\" style=\"width: 400px;\"/>"
   ]
  },
  {
   "cell_type": "code",
   "execution_count": null,
   "metadata": {},
   "outputs": [],
   "source": [
    "other_set = {'AB7416.2'}\n",
    "first_set.union(other_set)"
   ]
  },
  {
   "cell_type": "code",
   "execution_count": null,
   "metadata": {},
   "outputs": [],
   "source": [
    "first_set | other_set "
   ]
  },
  {
   "cell_type": "markdown",
   "metadata": {},
   "source": [
    "### Difference"
   ]
  },
  {
   "cell_type": "markdown",
   "metadata": {},
   "source": [
    "<img src=\"set-difference.jpg\" alt=\"Drawing\" style=\"width: 400px;\"/>"
   ]
  },
  {
   "cell_type": "code",
   "execution_count": null,
   "metadata": {},
   "outputs": [],
   "source": [
    "first_set.difference(other_set)"
   ]
  },
  {
   "cell_type": "code",
   "execution_count": null,
   "metadata": {},
   "outputs": [],
   "source": [
    "first_set - other_set"
   ]
  },
  {
   "cell_type": "code",
   "execution_count": null,
   "metadata": {},
   "outputs": [],
   "source": [
    "other_set - first_set"
   ]
  },
  {
   "cell_type": "markdown",
   "metadata": {},
   "source": [
    "### Immutable Set: Frozenset\n",
    "Frozenset is the immutable version of set. Its contents cannot be changed, so methods like add() and remove() are not available. \n",
    "\n",
    "It is generated with the frozenset object that takes an iterable as input"
   ]
  },
  {
   "cell_type": "code",
   "execution_count": null,
   "metadata": {},
   "outputs": [],
   "source": [
    "fs = frozenset(['a', 'b'])\n",
    "fs"
   ]
  },
  {
   "cell_type": "code",
   "execution_count": null,
   "metadata": {},
   "outputs": [],
   "source": [
    "fs.remove('a')"
   ]
  },
  {
   "cell_type": "markdown",
   "metadata": {},
   "source": [
    "Frozensets can be used as dictionary key."
   ]
  },
  {
   "cell_type": "markdown",
   "metadata": {},
   "source": [
    "## References\n",
    "\n",
    "* [Python for Bioinformatics](https://www.routledge.com/Python-for-Bioinformatics/Bassi/p/book/9781138035263)"
   ]
  }
 ],
 "metadata": {
  "kernelspec": {
   "display_name": "Python 3",
   "language": "python",
   "name": "python3"
  },
  "language_info": {
   "codemirror_mode": {
    "name": "ipython",
    "version": 3
   },
   "file_extension": ".py",
   "mimetype": "text/x-python",
   "name": "python",
   "nbconvert_exporter": "python",
   "pygments_lexer": "ipython3",
   "version": "3.8.5"
  }
 },
 "nbformat": 4,
 "nbformat_minor": 4
}
